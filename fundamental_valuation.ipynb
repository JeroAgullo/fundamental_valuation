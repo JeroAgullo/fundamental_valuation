{
  "nbformat": 4,
  "nbformat_minor": 0,
  "metadata": {
    "colab": {
      "provenance": [],
      "toc_visible": true,
      "authorship_tag": "ABX9TyMJA/RF4lZ7vGBDm0VVj1Wv"
    },
    "kernelspec": {
      "name": "python3",
      "display_name": "Python 3"
    },
    "language_info": {
      "name": "python"
    }
  },
  "cells": [
    {
      "cell_type": "markdown",
      "source": [
        "# Fundamental Valuation using Python"
      ],
      "metadata": {
        "id": "6daL5lqrBVRH"
      }
    },
    {
      "cell_type": "markdown",
      "source": [
        "## A Bottom-Up Approach with Financial Data and Multiples\n",
        "This project provides a fundamental valuation of NVIDIA Corporation (NVDA) using Python tools and financial data sourced from the Yahoo Finance API via the yfinance library.\n",
        "\n",
        "The analysis is designed to help investors and data analysts better understand the intrinsic value of a company by breaking down its financials, calculating key valuation metrics, and comparing market-implied values to accounting-based indicators."
      ],
      "metadata": {
        "id": "lRW4YI5NmyHi"
      }
    },
    {
      "cell_type": "markdown",
      "source": [
        "## Carga inicial"
      ],
      "metadata": {
        "id": "4uswBrCa_mDW"
      }
    },
    {
      "cell_type": "code",
      "execution_count": null,
      "metadata": {
        "id": "Ob3iIJpMRDXH"
      },
      "outputs": [],
      "source": [
        "# Importación de librerías\n",
        "import yfinance as yf\n",
        "import pandas as pd"
      ]
    },
    {
      "cell_type": "code",
      "source": [
        "# Crear objeto de NVIDIA\n",
        "nvda = yf.Ticker(\"NVDA\")"
      ],
      "metadata": {
        "id": "t0oeuQlrm3rF"
      },
      "execution_count": null,
      "outputs": []
    },
    {
      "cell_type": "code",
      "source": [
        "# Revisión de contenido (valores en los encabezados)\n",
        "#headers = nvda.financials.index.tolist()\n",
        "#for h in headers:\n",
        "#  print(h)"
      ],
      "metadata": {
        "id": "-_cjGiO_Vhjk"
      },
      "execution_count": 2,
      "outputs": []
    },
    {
      "cell_type": "markdown",
      "source": [
        "## Extracción de datos"
      ],
      "metadata": {
        "id": "w03Bgoe87_x7"
      }
    },
    {
      "cell_type": "code",
      "source": [
        "# Función auxiliar para extraer un valor si existe\n",
        "def safe_extract(df, row_name, column_name):\n",
        "    if row_name in df.index:\n",
        "        return df.loc[row_name, column_name]\n",
        "    else:\n",
        "        return None\n",
        "\n",
        "# Extracción de datos - Cuenta de resultados\n",
        "df = nvda.financials\n",
        "column_name = df.columns[1]\n",
        "\n",
        "total_revenue = safe_extract(df, \"Total Revenue\", column_name)\n",
        "gross_profit = safe_extract(df, \"Gross Profit\", column_name)\n",
        "ebitda = safe_extract(df, \"EBITDA\", column_name)\n",
        "ebit = safe_extract(df, \"EBIT\", column_name)\n",
        "net_income = safe_extract(df, \"Net Income\", column_name)\n",
        "\n",
        "# Extracción de datos - Balance\n",
        "df= nvda.balance_sheet\n",
        "column_name = df.columns[0]\n",
        "\n",
        "total_assets = safe_extract(df, \"Total Assets\", column_name)\n",
        "total_lianilities = safe_extract(df, \"Total Liabilities Net Minority Interest\", column_name)\n",
        "total_equity = safe_extract(df, \"Total Equity Gross Minority Interest\", column_name)\n",
        "cash = safe_extract(df, \"Cash And Cash Equivalents\", column_name)"
      ],
      "metadata": {
        "id": "mcdHRGi_SWiP"
      },
      "execution_count": null,
      "outputs": []
    },
    {
      "cell_type": "code",
      "source": [
        "# Revisión de datos\n",
        "print(\"Resultados:\")\n",
        "print(f\"Total Revenue: {total_revenue:,.0f}$\")\n",
        "print(f\"Total Profit: {gross_profit:,.0f}\")\n",
        "print(f\"EBITDA: {ebitda:,.0f}$\")\n",
        "print(f\"EBIT: {ebit:,.0f}$\")\n",
        "print(f\"Net Income: {net_income:,.0f}$\")\n",
        "\n",
        "print(\"\\nBalance:\")\n",
        "print(f\"Total Assets: {total_assets:,.0f}$\")\n",
        "print(f\"Total Liabilities: {total_lianilities:,.0f}$\")\n",
        "print(f\"Total Equity: {total_equity:,.0f}$\")\n",
        "print(f\"Cash: {cash:,.0f}$\")"
      ],
      "metadata": {
        "colab": {
          "base_uri": "https://localhost:8080/"
        },
        "id": "URcvOWZ5SMkN",
        "outputId": "b09bd74e-f921-40a8-c37b-f09810a3ac52"
      },
      "execution_count": null,
      "outputs": [
        {
          "output_type": "stream",
          "name": "stdout",
          "text": [
            "Resultados:\n",
            "Total Revenue: 60,922,000,000$\n",
            "Total Profit: 44,301,000,000\n",
            "EBITDA: 35,583,000,000$\n",
            "EBIT: 34,075,000,000$\n",
            "Net Income: 29,760,000,000$\n",
            "\n",
            "Balance:\n",
            "Total Assets: 111,601,000,000$\n",
            "Total Liabilities: 32,274,000,000$\n",
            "Total Equity: 79,327,000,000$\n",
            "Cash: 8,589,000,000$\n"
          ]
        }
      ]
    },
    {
      "cell_type": "markdown",
      "source": [
        "## Ratios contables"
      ],
      "metadata": {
        "id": "ETGxZpbA8JRg"
      }
    },
    {
      "cell_type": "code",
      "source": [
        "roe = net_income / total_equity\n",
        "print(f\"ROE: {roe:.2%}\")\n",
        "\n",
        "cash_ratio = cash / total_assets\n",
        "print(f\"Cash Ratio: {cash_ratio:.2%}\")\n",
        "\n",
        "debt_ratio = total_lianilities / total_assets\n",
        "print(f\"Debt Ratio: {debt_ratio:.2%}\")\n",
        "\n",
        "profit_revenue = gross_profit / total_revenue\n",
        "print(f\"Profit (as % of Revenue): {profit_revenue:.2%}\")\n",
        "\n",
        "ebitda_revenue = ebitda / total_revenue\n",
        "print(f\"EBITDA (as % of Revenue): {ebitda_revenue:.2%}\")"
      ],
      "metadata": {
        "id": "lvDYci-J3aTP",
        "colab": {
          "base_uri": "https://localhost:8080/"
        },
        "outputId": "1dfb5fb6-bfad-490c-b61b-ba7ee090d94d"
      },
      "execution_count": null,
      "outputs": [
        {
          "output_type": "stream",
          "name": "stdout",
          "text": [
            "ROE: 37.52%\n",
            "Cash Ratio: 7.70%\n",
            "Debt Ratio: 28.92%\n",
            "Profit (as % of Revenue): 72.72%\n",
            "EBITDA (as % of Revenue): 58.41%\n"
          ]
        }
      ]
    }
  ]
}