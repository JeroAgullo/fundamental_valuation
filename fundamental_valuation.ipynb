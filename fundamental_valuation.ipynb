{
  "nbformat": 4,
  "nbformat_minor": 0,
  "metadata": {
    "colab": {
      "provenance": [],
      "collapsed_sections": [
        "lRW4YI5NmyHi",
        "4uswBrCa_mDW",
        "PSAQP-nZfsw0"
      ],
      "toc_visible": true,
      "authorship_tag": "ABX9TyM99naKx7AHQMnaFEeQjFVf",
      "include_colab_link": true
    },
    "kernelspec": {
      "name": "python3",
      "display_name": "Python 3"
    },
    "language_info": {
      "name": "python"
    }
  },
  "cells": [
    {
      "cell_type": "markdown",
      "metadata": {
        "id": "view-in-github",
        "colab_type": "text"
      },
      "source": [
        "<a href=\"https://colab.research.google.com/github/JeroAgullo/fundamental_valuation/blob/main/fundamental_valuation.ipynb\" target=\"_parent\"><img src=\"https://colab.research.google.com/assets/colab-badge.svg\" alt=\"Open In Colab\"/></a>"
      ]
    },
    {
      "cell_type": "markdown",
      "source": [
        "# 1. Fundamental Valuation using Python"
      ],
      "metadata": {
        "id": "6daL5lqrBVRH"
      }
    },
    {
      "cell_type": "markdown",
      "source": [
        "## 1.1. Introduction"
      ],
      "metadata": {
        "id": "lRW4YI5NmyHi"
      }
    },
    {
      "cell_type": "markdown",
      "source": [
        "**Project Approach**  \n",
        "This project provides a fundamental valuation of NVIDIA Corporation (NVDA) using Python tools and financial data sourced from the Yahoo Finance API via the **yfinance** library.\n",
        "\n",
        "The notebook parses and standardizes key financial statement elements into a format that facilitates **ratio analysis and valuation modeling**.\n",
        "\n",
        "**Fundamental Analysis**  \n",
        "Fundamental analysis is a method used in accounting and finance to estimate the **intrinsic value of a security** in order to help with investment decisions.\n",
        "\n",
        "Unlike technical analysis, which focuses on price trends, fundamental analysis seeks to determine the \"true\" value of a security to identify whether it is overvalued, undervalued, or fairly valued **compared with its current market price**."
      ],
      "metadata": {
        "id": "cYAHHIEbPyT-"
      }
    },
    {
      "cell_type": "markdown",
      "source": [
        "## 1.2. First steps"
      ],
      "metadata": {
        "id": "4uswBrCa_mDW"
      }
    },
    {
      "cell_type": "markdown",
      "source": [
        "We will start by importing the needed libraries. Then, we are creating an object for the chosen company using yfinance's function '.Ticker', allowing us to get all its public financial information.\n",
        "\n",
        "We are using NVIDIA's ticker (the market \"ID\") for this project, but any other ticker can be applied. Here is a list of companies in the S&P500 Index, and their ticker: https://en.wikipedia.org/wiki/List_of_S%26P_500_companie"
      ],
      "metadata": {
        "id": "G8tshAJ-qppM"
      }
    },
    {
      "cell_type": "code",
      "execution_count": 82,
      "metadata": {
        "id": "Ob3iIJpMRDXH"
      },
      "outputs": [],
      "source": [
        "# Libraries import\n",
        "import yfinance as yf\n",
        "import pandas as pd"
      ]
    },
    {
      "cell_type": "code",
      "source": [
        "# NVIDIA object creation\n",
        "ticker = yf.Ticker(\"NVDA\")"
      ],
      "metadata": {
        "id": "t0oeuQlrm3rF"
      },
      "execution_count": 83,
      "outputs": []
    },
    {
      "cell_type": "code",
      "source": [
        "# Connection check\n",
        "headers = ticker.financials.index.tolist() # We will print the headers of the Income Statement report\n",
        "for h in headers:\n",
        "  print(h)"
      ],
      "metadata": {
        "id": "-_cjGiO_Vhjk",
        "colab": {
          "base_uri": "https://localhost:8080/"
        },
        "outputId": "8e127d3a-f764-471a-8689-d949a006afe5"
      },
      "execution_count": 84,
      "outputs": [
        {
          "output_type": "stream",
          "name": "stdout",
          "text": [
            "Tax Effect Of Unusual Items\n",
            "Tax Rate For Calcs\n",
            "Normalized EBITDA\n",
            "Total Unusual Items\n",
            "Total Unusual Items Excluding Goodwill\n",
            "Net Income From Continuing Operation Net Minority Interest\n",
            "Reconciled Depreciation\n",
            "Reconciled Cost Of Revenue\n",
            "EBITDA\n",
            "EBIT\n",
            "Net Interest Income\n",
            "Interest Expense\n",
            "Interest Income\n",
            "Normalized Income\n",
            "Net Income From Continuing And Discontinued Operation\n",
            "Total Expenses\n",
            "Total Operating Income As Reported\n",
            "Diluted Average Shares\n",
            "Basic Average Shares\n",
            "Diluted EPS\n",
            "Basic EPS\n",
            "Diluted NI Availto Com Stockholders\n",
            "Net Income Common Stockholders\n",
            "Net Income\n",
            "Net Income Including Noncontrolling Interests\n",
            "Net Income Continuous Operations\n",
            "Tax Provision\n",
            "Pretax Income\n",
            "Other Income Expense\n",
            "Other Non Operating Income Expenses\n",
            "Special Income Charges\n",
            "Restructuring And Mergern Acquisition\n",
            "Net Non Operating Interest Income Expense\n",
            "Interest Expense Non Operating\n",
            "Interest Income Non Operating\n",
            "Operating Income\n",
            "Operating Expense\n",
            "Research And Development\n",
            "Selling General And Administration\n",
            "Gross Profit\n",
            "Cost Of Revenue\n",
            "Total Revenue\n",
            "Operating Revenue\n"
          ]
        }
      ]
    },
    {
      "cell_type": "markdown",
      "source": [
        "## 1.3. Data extract"
      ],
      "metadata": {
        "id": "w03Bgoe87_x7"
      }
    },
    {
      "cell_type": "markdown",
      "source": [
        "We are now getting all the necessary data to proceed with the fundamental analysis. Not all the accessible information is needed, so we are selecting specific one from each Financial State (Financials):\n",
        "\n",
        "- Income Statement\n",
        "- Balance Sheet\n",
        "- Cashflow\n",
        "\n",
        "The market information (such as price or number of shares) will be also consulted for the more advanced financial valuations."
      ],
      "metadata": {
        "id": "8UOsaZEvrRzb"
      }
    },
    {
      "cell_type": "code",
      "source": [
        "# Auxiliar function to get only existing values and to limit error cases\n",
        "def safe_extract(df, row_name, column_name):\n",
        "    if row_name in df.index:\n",
        "        return df.loc[row_name, column_name]\n",
        "    else:\n",
        "        return None"
      ],
      "metadata": {
        "id": "mcdHRGi_SWiP"
      },
      "execution_count": 85,
      "outputs": []
    },
    {
      "cell_type": "code",
      "source": [
        "# Data extract - Income Statement\n",
        "df = ticker.financials\n",
        "column_name = df.columns[0] # First column, to get TTM (Trailing Twelve Months) report\n",
        "\n",
        "total_revenue = safe_extract(df, \"Total Revenue\", column_name)\n",
        "gross_profit = safe_extract(df, \"Gross Profit\", column_name)\n",
        "ebitda = safe_extract(df, \"EBITDA\", column_name)\n",
        "ebit = safe_extract(df, \"EBIT\", column_name)\n",
        "net_income = safe_extract(df, \"Net Income\", column_name)"
      ],
      "metadata": {
        "id": "tWVPHMy8phE9"
      },
      "execution_count": 86,
      "outputs": []
    },
    {
      "cell_type": "code",
      "source": [
        "# Data extract - Balance Sheet\n",
        "df= ticker.balance_sheet\n",
        "column_name = df.columns[0] # First column, to get only the latest accounting period report\n",
        "\n",
        "total_assets = safe_extract(df, \"Total Assets\", column_name)\n",
        "current_assets = safe_extract(df, \"Current Assets\", column_name)\n",
        "inventory = safe_extract(df, \"Inventory\", column_name)\n",
        "total_liabilities = safe_extract(df, \"Total Liabilities Net Minority Interest\", column_name)\n",
        "current_liabilities = safe_extract(df, \"Current Liabilities\", column_name)\n",
        "total_equity = safe_extract(df, \"Total Equity Gross Minority Interest\", column_name)\n",
        "cash = safe_extract(df, \"Cash And Cash Equivalents\", column_name)\n",
        "ordinary_shares = safe_extract(df, \"Ordinary Shares Number\", column_name)"
      ],
      "metadata": {
        "id": "xkSA9-T2pjAi"
      },
      "execution_count": 87,
      "outputs": []
    },
    {
      "cell_type": "code",
      "source": [
        "# Data extract - Cashflow\n",
        "df = ticker.cashflow\n",
        "column_name = df.columns[0] # First column, to get TTM (Trailing Twelve Months) report\n",
        "\n",
        "free_cashflow = safe_extract(df, \"Free Cash Flow\", column_name)"
      ],
      "metadata": {
        "id": "Z8b7w43XtPm7"
      },
      "execution_count": 88,
      "outputs": []
    },
    {
      "cell_type": "code",
      "source": [
        "# Data extract - Market information\n",
        "df = ticker.info\n",
        "\n",
        "current_price = df[\"currentPrice\"]\n",
        "current_shares = df[\"sharesOutstanding\"]\n",
        "current_market_cap = df[\"marketCap\"]"
      ],
      "metadata": {
        "id": "N7PCU2_SAJ-D"
      },
      "execution_count": 103,
      "outputs": []
    },
    {
      "cell_type": "code",
      "source": [
        "# Results print\n",
        "print(\"Income Statement results\")\n",
        "print(f\"Total Revenue: {total_revenue:,.0f}$\")\n",
        "print(f\"Total Profit: {gross_profit:,.0f}\")\n",
        "print(f\"EBITDA: {ebitda:,.0f}$\")\n",
        "print(f\"EBIT: {ebit:,.0f}$\")\n",
        "print(f\"Net Income: {net_income:,.0f}$\")\n",
        "\n",
        "print(\"\\nBalance Sheet results\")\n",
        "print(f\"Total Assets: {total_assets:,.0f}$\")\n",
        "print(f\"Total Liabilities: {total_liabilities:,.0f}$\")\n",
        "print(f\"Total Equity: {total_equity:,.0f}$\")\n",
        "print(f\"Cash: {cash:,.0f}$\")\n",
        "\n",
        "print(\"\\nMarket information\")\n",
        "print(f\"Current Price: {current_price:,.2f}$\")\n",
        "print(f\"Current Shares: {current_shares:,.0f}\")\n",
        "print(f\"Current Market Cap: {current_market_cap:,.0f}$\")"
      ],
      "metadata": {
        "colab": {
          "base_uri": "https://localhost:8080/"
        },
        "id": "URcvOWZ5SMkN",
        "outputId": "ecca6d47-10ef-4a65-8ebe-f425363b7041"
      },
      "execution_count": 105,
      "outputs": [
        {
          "output_type": "stream",
          "name": "stdout",
          "text": [
            "Income Statement results\n",
            "Total Revenue: 130,497,000,000$\n",
            "Total Profit: 97,858,000,000\n",
            "EBITDA: 86,137,000,000$\n",
            "EBIT: 84,273,000,000$\n",
            "Net Income: 72,880,000,000$\n",
            "\n",
            "Balance Sheet results\n",
            "Total Assets: 111,601,000,000$\n",
            "Total Liabilities: 32,274,000,000$\n",
            "Total Equity: 79,327,000,000$\n",
            "Cash: 0$\n",
            "\n",
            "Market information\n",
            "Current Price: 173.72$\n",
            "Current Shares: 24,387,600,384\n",
            "Current Market Cap: 4,236,614,041,600$\n"
          ]
        }
      ]
    },
    {
      "cell_type": "markdown",
      "source": [
        "# 2. Financial Ratios"
      ],
      "metadata": {
        "id": "ETGxZpbA8JRg"
      }
    },
    {
      "cell_type": "markdown",
      "source": [
        "## 2.1. Introduction"
      ],
      "metadata": {
        "id": "PSAQP-nZfsw0"
      }
    },
    {
      "cell_type": "markdown",
      "source": [
        "Financial ratios are quantitative metrics derived from Financial Statements' data, allowing us to simplify the interpretation of such raw information.\n",
        "\n",
        "These ratios will gives us a clear data-driven picture of the studied security and its past and current health, being a key part of fundamental valuation. They can be structured as followed:\n",
        "\n",
        "- Leverage and Liquidity Ratios\n",
        "- Profitability Ratios\n",
        "- Valuation Ratios (Multiples)"
      ],
      "metadata": {
        "id": "EnqfwRIQSaS4"
      }
    },
    {
      "cell_type": "markdown",
      "source": [
        "## 2.2. Leverage and Liquidity Ratios"
      ],
      "metadata": {
        "id": "rPhSvGNxf0uP"
      }
    },
    {
      "cell_type": "markdown",
      "source": [
        "Indicators that let us know the company's the strength of its capital structure and the capacity to attend to its long-term (leverage) and its short-term obligations (liquidity)."
      ],
      "metadata": {
        "id": "qSr4OG9phEWF"
      }
    },
    {
      "cell_type": "code",
      "source": [
        "# Leverage Ratios\n",
        "debt_equity = total_liabilities / total_equity\n",
        "print(f\"Debt to Equity (D/E) Ratio: {debt_equity:.2%}\")\n",
        "\n",
        "debt_asset = total_liabilities / total_assets\n",
        "print(f\"Debt to Asset (D/A) Ratio: {debt_asset:.2%}\")"
      ],
      "metadata": {
        "colab": {
          "base_uri": "https://localhost:8080/"
        },
        "id": "NbbD9Oy2iON8",
        "outputId": "599e40b1-7014-465d-e418-3f268bc36ce5"
      },
      "execution_count": 91,
      "outputs": [
        {
          "output_type": "stream",
          "name": "stdout",
          "text": [
            "Debt to Equity (D/E) Ratio: 40.68%\n",
            "Debt to Asset (D/A) Ratio: 28.92%\n"
          ]
        }
      ]
    },
    {
      "cell_type": "code",
      "source": [
        "# Liquidity Ratios\n",
        "current = current_assets / current_liabilities\n",
        "print(f\"Current Ratio: {current:.2%}\")\n",
        "\n",
        "quick = (current_assets - inventory) / current_liabilities\n",
        "print(f\"Quick (Acid) Ratio: {quick:.2%}\")\n",
        "\n",
        "cash = cash / current_liabilities\n",
        "print(f\"Cash Ratio: {cash:.2%}\")"
      ],
      "metadata": {
        "colab": {
          "base_uri": "https://localhost:8080/"
        },
        "id": "nDIUfpM2jPzA",
        "outputId": "f39e3602-9157-41c7-bb70-744a3d854fa5"
      },
      "execution_count": 92,
      "outputs": [
        {
          "output_type": "stream",
          "name": "stdout",
          "text": [
            "Current Ratio: 443.99%\n",
            "Quick (Acid) Ratio: 388.13%\n",
            "Cash Ratio: 47.59%\n"
          ]
        }
      ]
    },
    {
      "cell_type": "markdown",
      "source": [
        "## 2.3. Profitability Ratios"
      ],
      "metadata": {
        "id": "6ukX9_PjnX9G"
      }
    },
    {
      "cell_type": "markdown",
      "source": [
        "Indicators that let us know, not only if the company can attend to its obligations, but also if it gives profit to its owners."
      ],
      "metadata": {
        "id": "rQ5v3XPondEJ"
      }
    },
    {
      "cell_type": "code",
      "source": [
        "# Return Ratios\n",
        "roi = net_income / total_revenue\n",
        "print(f\"Return on Investment (ROI): {roi:.2%}\")\n",
        "\n",
        "roe = net_income / total_equity\n",
        "print(f\"Return on Equity (ROE): {roe:.2%}\")\n",
        "\n",
        "roa = net_income / total_assets\n",
        "print(f\"Return on Assets (ROA): {roa:.2%}\")"
      ],
      "metadata": {
        "colab": {
          "base_uri": "https://localhost:8080/"
        },
        "id": "2E3s5bI7oGGJ",
        "outputId": "89b9388c-49c3-4509-d91e-235635f14087"
      },
      "execution_count": 93,
      "outputs": [
        {
          "output_type": "stream",
          "name": "stdout",
          "text": [
            "Return on Investment (ROI): 55.85%\n",
            "Return on Equity (ROE): 91.87%\n",
            "Return on Assets (ROA): 65.30%\n"
          ]
        }
      ]
    },
    {
      "cell_type": "code",
      "source": [
        "# Efficency Ratios\n",
        "gross_margin = gross_profit / total_revenue\n",
        "print(f\"Gross Margin: {gross_margin:.2%}\")\n",
        "\n",
        "ebitda_margin = ebitda / total_revenue\n",
        "print(f\"EBITDA Margin: {ebitda_margin:.2%}\")\n",
        "\n",
        "fcf_revenue = free_cashflow / total_revenue\n",
        "print(f\"Free Cash Flow Margin: {fcf_revenue:.2%}\")"
      ],
      "metadata": {
        "colab": {
          "base_uri": "https://localhost:8080/"
        },
        "id": "qW_BVX7upp4C",
        "outputId": "ee7ad7b2-70ac-4d88-b6f6-e15379d4312a"
      },
      "execution_count": 94,
      "outputs": [
        {
          "output_type": "stream",
          "name": "stdout",
          "text": [
            "Gross Margin: 74.99%\n",
            "EBITDA Margin: 66.01%\n",
            "Free Cash Flow Margin: 46.63%\n"
          ]
        }
      ]
    },
    {
      "cell_type": "code",
      "source": [
        "# Share Ratios\n",
        "book_value = total_equity / ordinary_shares # We use the share number reported in the same period as the Equity (Accounting Period)\n",
        "print(f\"Book Value per Share (BV): {book_value:.2f}$\")\n",
        "\n",
        "eps = net_income / current_shares # We use the share number reported in the same period as the Net Income (TTM)\n",
        "print(f\"Earnings per Share (EPS): {eps:.2f}$\")"
      ],
      "metadata": {
        "colab": {
          "base_uri": "https://localhost:8080/"
        },
        "id": "NShgjvt9C4nB",
        "outputId": "bd002827-789b-45eb-e4b5-4f55f4fdb527"
      },
      "execution_count": 97,
      "outputs": [
        {
          "output_type": "stream",
          "name": "stdout",
          "text": [
            "Book Value per Share (BV): 3.24$\n",
            "Earnings per Share (EPS): 2.99$\n"
          ]
        }
      ]
    },
    {
      "cell_type": "markdown",
      "source": [
        "## 2.4. Valuation Ratios (Multiples)"
      ],
      "metadata": {
        "id": "OaQnG6zuzbBw"
      }
    },
    {
      "cell_type": "markdown",
      "source": [
        "Indicators most commonly used in financial investments. They allow us to compare companies from the same sector and competitors in the market."
      ],
      "metadata": {
        "id": "pqq6nOaCzpWY"
      }
    },
    {
      "cell_type": "code",
      "source": [
        "# Price to Book Value\n",
        "p_bv = current_price / book_value\n",
        "print(f\"Price to Book Value (P/BV): x{p_bv:.2f}\")"
      ],
      "metadata": {
        "colab": {
          "base_uri": "https://localhost:8080/"
        },
        "id": "4AraqhbK6q8d",
        "outputId": "037c4f6a-0062-4404-b7b5-b57865ac7b39"
      },
      "execution_count": 99,
      "outputs": [
        {
          "output_type": "stream",
          "name": "stdout",
          "text": [
            "Price to Book Value (P/BV): x53.60\n"
          ]
        }
      ]
    },
    {
      "cell_type": "code",
      "source": [
        "# Price to Earnings Ratio (PER)\n",
        "per = current_price / eps\n",
        "print(f\"Price to Earnings Ratio (PER or P/E): x{per:.2f}\")"
      ],
      "metadata": {
        "colab": {
          "base_uri": "https://localhost:8080/"
        },
        "id": "J8gc6x5tGN7-",
        "outputId": "7c60cc25-f697-4e44-fd7a-556c83fed7ed"
      },
      "execution_count": 100,
      "outputs": [
        {
          "output_type": "stream",
          "name": "stdout",
          "text": [
            "Price to Earnings Ratio (PER): x58.13\n"
          ]
        }
      ]
    },
    {
      "cell_type": "code",
      "source": [
        "# Enterprise Value to EBITDA (EV/EBITDA)\n",
        "enterprise_value = current_market_cap + total_liabilities - cash # Enterprise Value (EV) must be calculated first\n",
        "ev_ebitda = enterprise_value / ebitda\n",
        "print(f\"Enterprise Value to EBITDA (EV/EBITDA): x{ev_ebitda:.2f}\")"
      ],
      "metadata": {
        "colab": {
          "base_uri": "https://localhost:8080/"
        },
        "id": "NG7sRWFrG0je",
        "outputId": "f9da0014-1863-4f06-da4c-d9019d1edcee"
      },
      "execution_count": 106,
      "outputs": [
        {
          "output_type": "stream",
          "name": "stdout",
          "text": [
            "Enterprise Value to EBITDA (EV/EBITDA): x49.56\n"
          ]
        }
      ]
    },
    {
      "cell_type": "code",
      "source": [],
      "metadata": {
        "id": "ehHuOERKNjj9"
      },
      "execution_count": null,
      "outputs": []
    }
  ]
}