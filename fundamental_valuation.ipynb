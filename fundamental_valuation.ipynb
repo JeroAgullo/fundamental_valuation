{
  "nbformat": 4,
  "nbformat_minor": 0,
  "metadata": {
    "colab": {
      "provenance": [],
      "collapsed_sections": [
        "4uswBrCa_mDW",
        "w03Bgoe87_x7",
        "PSAQP-nZfsw0",
        "rPhSvGNxf0uP",
        "6ukX9_PjnX9G",
        "K77CU3Ufzu5K",
        "OaQnG6zuzbBw"
      ],
      "toc_visible": true,
      "authorship_tag": "ABX9TyNgHgvVdEAyYVgWbCkdllx9",
      "include_colab_link": true
    },
    "kernelspec": {
      "name": "python3",
      "display_name": "Python 3"
    },
    "language_info": {
      "name": "python"
    }
  },
  "cells": [
    {
      "cell_type": "markdown",
      "metadata": {
        "id": "view-in-github",
        "colab_type": "text"
      },
      "source": [
        "<a href=\"https://colab.research.google.com/github/JeroAgullo/fundamental_valuation/blob/main/fundamental_valuation.ipynb\" target=\"_parent\"><img src=\"https://colab.research.google.com/assets/colab-badge.svg\" alt=\"Open In Colab\"/></a>"
      ]
    },
    {
      "cell_type": "markdown",
      "source": [
        "# 1. Fundamental Valuation using Python"
      ],
      "metadata": {
        "id": "6daL5lqrBVRH"
      }
    },
    {
      "cell_type": "markdown",
      "source": [
        "## 1.1. Introduction: let’s torch the hype"
      ],
      "metadata": {
        "id": "lRW4YI5NmyHi"
      }
    },
    {
      "cell_type": "markdown",
      "source": [
        "**Project Approach**\n",
        "\n",
        "Welcome to yet another boring finance project - except this one is spiced with Python and data-driven bitterness. We're going to dissect NVIDIA’s (NVDA) financial guts using the Yahoo Finance API via the **yfinance** library, because scraping data like it is 2010 is a hobby of people who enjoy pain.\n",
        "\n",
        "The notebook parses and standardizes key financial statement elements into a format that facilitates **ratio analysis and valuation modeling**, which is specially useful for dummies like me.\n",
        "\n",
        "**Fundamental analysis**\n",
        "\n",
        "Yes, the ancient art of pretending we can outsmart the market by estimating the **intrinsic value of a security**. Because hey, if Buffett does it, it must work, right?\n",
        "\n",
        "Unlike technical analysis, which is astrology for traders, fundamental analysis pretends to find the “real” value of a stock and **compare it with its current price**. Spoiler: the market doesn’t care anymore about our spreadsheets."
      ],
      "metadata": {
        "id": "cYAHHIEbPyT-"
      }
    },
    {
      "cell_type": "markdown",
      "source": [
        "## 1.2. First steps: stalking the company"
      ],
      "metadata": {
        "id": "4uswBrCa_mDW"
      }
    },
    {
      "cell_type": "markdown",
      "source": [
        "Let’s import some libraries like responsible nerds and pretend we’re doing something no one else has thought of before."
      ],
      "metadata": {
        "id": "tG9YD8NwqWg0"
      }
    },
    {
      "cell_type": "code",
      "execution_count": 5,
      "metadata": {
        "id": "Ob3iIJpMRDXH"
      },
      "outputs": [],
      "source": [
        "import yfinance as yf\n",
        "import pandas as pd"
      ]
    },
    {
      "cell_type": "markdown",
      "source": [
        "Now, let’s summon the almighty NVDA ticker (the market \"ID\") like some Wall Street necromancer.\n",
        "\n",
        "Just in case any fanboy would like to run this code for their favourite capitalist society, here is a list of the current companies in the S&P500 Index, and their ticker:\n",
        "\n",
        "https://en.wikipedia.org/wiki/List_of_S%26P_500_companies"
      ],
      "metadata": {
        "id": "HBg59H96q0W8"
      }
    },
    {
      "cell_type": "code",
      "source": [
        "ticker = yf.Ticker(\"NVDA\")"
      ],
      "metadata": {
        "id": "t0oeuQlrm3rF"
      },
      "execution_count": 6,
      "outputs": []
    },
    {
      "cell_type": "markdown",
      "source": [
        "Time to check what is inside the monster. This isn't magic; it is just unpaid interns at Yahoo structuring your API access.\n",
        "\n",
        "Spoiler alert: You will get a tsunami of financial jargon you will pretend to understand to impress LinkedIn recruiters. Comment this code if you get bored of scrolling."
      ],
      "metadata": {
        "id": "VySFXoxor9a-"
      }
    },
    {
      "cell_type": "code",
      "source": [
        "headers = ticker.balance_sheet.index.tolist() # We will print the headers of the Income Statement report\n",
        "for h in headers:\n",
        "  print(h)"
      ],
      "metadata": {
        "id": "-_cjGiO_Vhjk",
        "colab": {
          "base_uri": "https://localhost:8080/"
        },
        "outputId": "71f45ff7-7969-451a-f997-cb881771e013"
      },
      "execution_count": 7,
      "outputs": [
        {
          "output_type": "stream",
          "name": "stdout",
          "text": [
            "Treasury Shares Number\n",
            "Ordinary Shares Number\n",
            "Share Issued\n",
            "Net Debt\n",
            "Total Debt\n",
            "Tangible Book Value\n",
            "Invested Capital\n",
            "Working Capital\n",
            "Net Tangible Assets\n",
            "Capital Lease Obligations\n",
            "Common Stock Equity\n",
            "Total Capitalization\n",
            "Total Equity Gross Minority Interest\n",
            "Stockholders Equity\n",
            "Gains Losses Not Affecting Retained Earnings\n",
            "Other Equity Adjustments\n",
            "Treasury Stock\n",
            "Retained Earnings\n",
            "Additional Paid In Capital\n",
            "Capital Stock\n",
            "Common Stock\n",
            "Preferred Stock\n",
            "Total Liabilities Net Minority Interest\n",
            "Total Non Current Liabilities Net Minority Interest\n",
            "Other Non Current Liabilities\n",
            "Employee Benefits\n",
            "Tradeand Other Payables Non Current\n",
            "Non Current Deferred Liabilities\n",
            "Non Current Deferred Revenue\n",
            "Non Current Deferred Taxes Liabilities\n",
            "Long Term Debt And Capital Lease Obligation\n",
            "Long Term Capital Lease Obligation\n",
            "Long Term Debt\n",
            "Current Liabilities\n",
            "Other Current Liabilities\n",
            "Current Deferred Liabilities\n",
            "Current Deferred Revenue\n",
            "Current Debt And Capital Lease Obligation\n",
            "Current Capital Lease Obligation\n",
            "Current Debt\n",
            "Other Current Borrowings\n",
            "Current Provisions\n",
            "Payables And Accrued Expenses\n",
            "Current Accrued Expenses\n",
            "Interest Payable\n",
            "Payables\n",
            "Total Tax Payable\n",
            "Accounts Payable\n",
            "Total Assets\n",
            "Total Non Current Assets\n",
            "Other Non Current Assets\n",
            "Non Current Prepaid Assets\n",
            "Non Current Deferred Assets\n",
            "Non Current Deferred Taxes Assets\n",
            "Non Current Accounts Receivable\n",
            "Investments And Advances\n",
            "Other Investments\n",
            "Investmentin Financial Assets\n",
            "Available For Sale Securities\n",
            "Goodwill And Other Intangible Assets\n",
            "Other Intangible Assets\n",
            "Goodwill\n",
            "Net PPE\n",
            "Accumulated Depreciation\n",
            "Gross PPE\n",
            "Leases\n",
            "Construction In Progress\n",
            "Other Properties\n",
            "Machinery Furniture Equipment\n",
            "Buildings And Improvements\n",
            "Land And Improvements\n",
            "Properties\n",
            "Current Assets\n",
            "Other Current Assets\n",
            "Prepaid Assets\n",
            "Inventory\n",
            "Finished Goods\n",
            "Work In Process\n",
            "Raw Materials\n",
            "Receivables\n",
            "Accounts Receivable\n",
            "Allowance For Doubtful Accounts Receivable\n",
            "Gross Accounts Receivable\n",
            "Cash Cash Equivalents And Short Term Investments\n",
            "Other Short Term Investments\n",
            "Cash And Cash Equivalents\n"
          ]
        }
      ]
    },
    {
      "cell_type": "markdown",
      "source": [
        "## 1.3. Data extraction: AKA copy-pasting numbers from the Internet"
      ],
      "metadata": {
        "id": "w03Bgoe87_x7"
      }
    },
    {
      "cell_type": "markdown",
      "source": [
        "Welcome to the exciting world of extracting too much data, only to use five values in your report for your boss. We will select specific data from each Financial State (Financials):\n",
        "\n",
        "- Income Statement\n",
        "- Balance Sheet\n",
        "- Cashflow\n",
        "\n",
        "The market information (such as price or number of shares) will be also needed. Probably you were looking just for this, right?"
      ],
      "metadata": {
        "id": "8UOsaZEvrRzb"
      }
    },
    {
      "cell_type": "markdown",
      "source": [
        "First, a little function that avoids blowing up your notebook when Yahoo decides not to play nice:"
      ],
      "metadata": {
        "id": "8f02-VstuH6y"
      }
    },
    {
      "cell_type": "code",
      "source": [
        "def safe_extract(df, row_name, column_name):\n",
        "    if row_name in df.index:\n",
        "        return df.loc[row_name, column_name]\n",
        "    else:\n",
        "        return 0"
      ],
      "metadata": {
        "id": "mcdHRGi_SWiP"
      },
      "execution_count": 8,
      "outputs": []
    },
    {
      "cell_type": "markdown",
      "source": [
        "Data extract (1/4) - Income Statement: are they even making any money?"
      ],
      "metadata": {
        "id": "d5a71yHYuNr5"
      }
    },
    {
      "cell_type": "code",
      "source": [
        "df = ticker.ttm_financials\n",
        "column_name = df.columns[0] # First column from the TTM (Trailing Twelve Months) report\n",
        "\n",
        "total_revenue = safe_extract(df, \"Total Revenue\", column_name)\n",
        "gross_profit = safe_extract(df, \"Gross Profit\", column_name)\n",
        "ebitda = safe_extract(df, \"EBITDA\", column_name)\n",
        "ebit = safe_extract(df, \"EBIT\", column_name)\n",
        "net_income = safe_extract(df, \"Net Income\", column_name)"
      ],
      "metadata": {
        "id": "tWVPHMy8phE9"
      },
      "execution_count": 9,
      "outputs": []
    },
    {
      "cell_type": "markdown",
      "source": [
        "Data extract (2/4) - Balance Sheet: how rich are they, really?"
      ],
      "metadata": {
        "id": "5Sj5cPq3uYeO"
      }
    },
    {
      "cell_type": "code",
      "source": [
        "df= ticker.balancesheet\n",
        "column_name = df.columns[0] # First column, to get only the latest accounting period report\n",
        "\n",
        "total_assets = safe_extract(df, \"Total Assets\", column_name)\n",
        "current_assets = safe_extract(df, \"Current Assets\", column_name)\n",
        "inventory = safe_extract(df, \"Inventory\", column_name)\n",
        "total_liabilities = safe_extract(df, \"Total Liabilities Net Minority Interest\", column_name)\n",
        "current_liabilities = safe_extract(df, \"Current Liabilities\", column_name)\n",
        "total_equity = safe_extract(df, \"Total Equity Gross Minority Interest\", column_name)\n",
        "cash = safe_extract(df, \"Cash And Cash Equivalents\", column_name)\n",
        "ordinary_shares = safe_extract(df, \"Ordinary Shares Number\", column_name)"
      ],
      "metadata": {
        "id": "xkSA9-T2pjAi"
      },
      "execution_count": 10,
      "outputs": []
    },
    {
      "cell_type": "markdown",
      "source": [
        "Data extract (3/4) - Cashflow: because even cool companies need money"
      ],
      "metadata": {
        "id": "8POCtXqiueDe"
      }
    },
    {
      "cell_type": "code",
      "source": [
        "df = ticker.ttm_cash_flow\n",
        "column_name = df.columns[0] # First column from the TTM (Trailing Twelve Months) report\n",
        "\n",
        "cashflow = safe_extract(df, \"Operating Cash Flow\", column_name)\n",
        "free_cashflow = safe_extract(df, \"Free Cash Flow\", column_name)"
      ],
      "metadata": {
        "id": "Z8b7w43XtPm7"
      },
      "execution_count": 11,
      "outputs": []
    },
    {
      "cell_type": "markdown",
      "source": [
        "Data extract (4/4) - Market information: the delusional price people pay"
      ],
      "metadata": {
        "id": "nUzec0uaurbi"
      }
    },
    {
      "cell_type": "code",
      "source": [
        "df = ticker.info\n",
        "\n",
        "current_price = df[\"currentPrice\"]\n",
        "current_shares = df[\"sharesOutstanding\"]\n",
        "current_market_cap = df[\"marketCap\"]"
      ],
      "metadata": {
        "id": "N7PCU2_SAJ-D"
      },
      "execution_count": 12,
      "outputs": []
    },
    {
      "cell_type": "markdown",
      "source": [
        "Now let's flex these numbers like we're pitching in a business podcast:"
      ],
      "metadata": {
        "id": "N_xc6mizu31-"
      }
    },
    {
      "cell_type": "code",
      "source": [
        "print(\"Income Statement results\")\n",
        "print(f\"Total Revenue: {total_revenue:,.0f}$\")\n",
        "print(f\"Total Profit: {gross_profit:,.0f}\")\n",
        "print(f\"EBITDA: {ebitda:,.0f}$\")\n",
        "print(f\"EBIT: {ebit:,.0f}$\")\n",
        "print(f\"Net Income: {net_income:,.0f}$\")\n",
        "\n",
        "print(\"\\nBalance Sheet results\")\n",
        "print(f\"Total Assets: {total_assets:,.0f}$\")\n",
        "print(f\"Current Assets: {current_assets:,.0f}$\")\n",
        "print(f\"Inventory: {inventory:,.0f}$\")\n",
        "print(f\"Total Liabilities: {total_liabilities:,.0f}$\")\n",
        "print(f\"Current Liabilities: {current_liabilities:,.0f}$\")\n",
        "print(f\"Total Equity: {total_equity:,.0f}$\")\n",
        "print(f\"Cash: {cash:,.0f}$\")\n",
        "\n",
        "\n",
        "print(\"\\nCashflow results\")\n",
        "print(f\"Cash Flow: {cashflow:,.0f}$\")\n",
        "print(f\"Free Cash Flow: {free_cashflow:,.0f}$\")\n",
        "\n",
        "print(\"\\nMarket information\")\n",
        "print(f\"Current Price: {current_price:,.2f}$\")\n",
        "print(f\"Current Shares: {current_shares:,.0f}\")\n",
        "print(f\"Current Market Cap: {current_market_cap:,.0f}$\")"
      ],
      "metadata": {
        "colab": {
          "base_uri": "https://localhost:8080/"
        },
        "id": "URcvOWZ5SMkN",
        "outputId": "7ecfc75d-2b7a-473c-a438-4d7fd24b7c97"
      },
      "execution_count": 13,
      "outputs": [
        {
          "output_type": "stream",
          "name": "stdout",
          "text": [
            "Income Statement results\n",
            "Total Revenue: 148,515,000,000$\n",
            "Total Profit: 104,120,000,000\n",
            "EBITDA: 90,968,000,000$\n",
            "EBIT: 88,903,000,000$\n",
            "Net Income: 76,774,000,000$\n",
            "\n",
            "Balance Sheet results\n",
            "Total Assets: 111,601,000,000$\n",
            "Current Assets: 80,126,000,000$\n",
            "Inventory: 10,080,000,000$\n",
            "Total Liabilities: 32,274,000,000$\n",
            "Current Liabilities: 18,047,000,000$\n",
            "Total Equity: 79,327,000,000$\n",
            "Cash: 8,589,000,000$\n",
            "\n",
            "Cashflow results\n",
            "Cash Flow: 76,158,000,000$\n",
            "Free Cash Flow: 72,064,000,000$\n",
            "\n",
            "Market information\n",
            "Current Price: 173.72$\n",
            "Current Shares: 24,387,600,384\n",
            "Current Market Cap: 4,236,614,041,600$\n"
          ]
        }
      ]
    },
    {
      "cell_type": "markdown",
      "source": [
        "If you're still reading, congrats. You've officially spent more time analyzing NVIDIA than half the meme-stock crowd."
      ],
      "metadata": {
        "id": "TigwNlmkvLsy"
      }
    },
    {
      "cell_type": "markdown",
      "source": [
        "# 2. Financial Ratios"
      ],
      "metadata": {
        "id": "ETGxZpbA8JRg"
      }
    },
    {
      "cell_type": "markdown",
      "source": [
        "## 2.1. Introduction: pretending numbers reveal truth"
      ],
      "metadata": {
        "id": "PSAQP-nZfsw0"
      }
    },
    {
      "cell_type": "markdown",
      "source": [
        "Financial ratios are quantitative metrics derived from Financial Statements' data, allowing ChatGPT users like me to simplify the interpretation of such raw information.\n",
        "\n",
        "These ratios are a key part in this fundamental valuation thing, and they can be structured as followed:\n",
        "\n",
        "- Leverage and Liquidity Ratios\n",
        "- Profitability Ratios\n",
        "- Cash Flow\n",
        "- Valuation Ratios (Multiples)"
      ],
      "metadata": {
        "id": "EnqfwRIQSaS4"
      }
    },
    {
      "cell_type": "markdown",
      "source": [
        "## 2.2. Leverage and Liquidity Ratios: can they survive a bad quarter?"
      ],
      "metadata": {
        "id": "rPhSvGNxf0uP"
      }
    },
    {
      "cell_type": "markdown",
      "source": [
        "Indicators that let us know the company's the strength of its capital structure and the capacity to attend to its long-term (leverage) and its short-term obligations (liquidity).\n",
        "\n",
        "Basically, they let us know if the company can pay their bills without selling the furniture."
      ],
      "metadata": {
        "id": "qSr4OG9phEWF"
      }
    },
    {
      "cell_type": "code",
      "source": [
        "# Leverage Ratios\n",
        "debt_equity = total_liabilities / total_equity\n",
        "print(f\"Debt to Equity (D/E) Ratio: {debt_equity:.2%}\")\n",
        "\n",
        "debt_asset = total_liabilities / total_assets\n",
        "print(f\"Debt to Asset (D/A) Ratio: {debt_asset:.2%}\")"
      ],
      "metadata": {
        "colab": {
          "base_uri": "https://localhost:8080/"
        },
        "id": "NbbD9Oy2iON8",
        "outputId": "e75b0d95-79a0-4a96-dd4a-e09c15859c89"
      },
      "execution_count": 14,
      "outputs": [
        {
          "output_type": "stream",
          "name": "stdout",
          "text": [
            "Debt to Equity (D/E) Ratio: 40.68%\n",
            "Debt to Asset (D/A) Ratio: 28.92%\n"
          ]
        }
      ]
    },
    {
      "cell_type": "code",
      "source": [
        "# Liquidity Ratios\n",
        "current = current_assets / current_liabilities\n",
        "print(f\"Current Ratio: {current:.2%}\")\n",
        "\n",
        "quick = (current_assets - inventory) / current_liabilities\n",
        "print(f\"Quick (Acid) Ratio: {quick:.2%}\")\n",
        "\n",
        "cash = cash / current_liabilities\n",
        "print(f\"Cash Ratio: {cash:.2%}\")"
      ],
      "metadata": {
        "colab": {
          "base_uri": "https://localhost:8080/"
        },
        "id": "nDIUfpM2jPzA",
        "outputId": "840306e0-b069-4d7a-ce20-cf06fdd6abbe"
      },
      "execution_count": 15,
      "outputs": [
        {
          "output_type": "stream",
          "name": "stdout",
          "text": [
            "Current Ratio: 443.99%\n",
            "Quick (Acid) Ratio: 388.13%\n",
            "Cash Ratio: 47.59%\n"
          ]
        }
      ]
    },
    {
      "cell_type": "markdown",
      "source": [
        "## 2.3. Profitability Ratios: making money isn't enough anymore"
      ],
      "metadata": {
        "id": "6ukX9_PjnX9G"
      }
    },
    {
      "cell_type": "markdown",
      "source": [
        "Indicators that let us know, not only if the company can attend to its obligations, but also if it gives profit to its owners.\n",
        "\n",
        "Are they actually doing something with their asset or just hoarding them? Is there any real profit before the taxman shows up? Here are the answers."
      ],
      "metadata": {
        "id": "rQ5v3XPondEJ"
      }
    },
    {
      "cell_type": "code",
      "source": [
        "# Return Ratios\n",
        "roi = net_income / total_revenue\n",
        "print(f\"Return on Investment (ROI): {roi:.2%}\")\n",
        "\n",
        "roe = net_income / total_equity\n",
        "print(f\"Return on Equity (ROE): {roe:.2%}\")\n",
        "\n",
        "roa = net_income / total_assets\n",
        "print(f\"Return on Assets (ROA): {roa:.2%}\")"
      ],
      "metadata": {
        "colab": {
          "base_uri": "https://localhost:8080/"
        },
        "id": "2E3s5bI7oGGJ",
        "outputId": "b26579b2-e4f9-46d0-cbc7-de32ba97f0ef"
      },
      "execution_count": 16,
      "outputs": [
        {
          "output_type": "stream",
          "name": "stdout",
          "text": [
            "Return on Investment (ROI): 51.69%\n",
            "Return on Equity (ROE): 96.78%\n",
            "Return on Assets (ROA): 68.79%\n"
          ]
        }
      ]
    },
    {
      "cell_type": "code",
      "source": [
        "# Efficency Ratios\n",
        "gross_margin = gross_profit / total_revenue\n",
        "print(f\"Gross Margin: {gross_margin:.2%}\")\n",
        "\n",
        "ebitda_margin = ebitda / total_revenue\n",
        "print(f\"EBITDA Margin: {ebitda_margin:.2%}\")\n",
        "\n",
        "fcf_revenue = free_cashflow / total_revenue\n",
        "print(f\"Free Cash Flow Margin: {fcf_revenue:.2%}\")"
      ],
      "metadata": {
        "colab": {
          "base_uri": "https://localhost:8080/"
        },
        "id": "qW_BVX7upp4C",
        "outputId": "156b1e1e-95db-4c1e-a875-b6c27967d05f"
      },
      "execution_count": 17,
      "outputs": [
        {
          "output_type": "stream",
          "name": "stdout",
          "text": [
            "Gross Margin: 70.11%\n",
            "EBITDA Margin: 61.25%\n",
            "Free Cash Flow Margin: 48.52%\n"
          ]
        }
      ]
    },
    {
      "cell_type": "code",
      "source": [
        "# Share Ratios\n",
        "bvps = total_equity / ordinary_shares # We use the share number reported in the same period as the Equity (Accounting Period)\n",
        "print(f\"Book Value per Share (BVPS): {bvps:.2f}$\")\n",
        "\n",
        "eps = net_income / current_shares # We use the share number reported in the same period as the Net Income (TTM)\n",
        "print(f\"Earnings per Share (EPS): {eps:.2f}$\")\n",
        "\n",
        "cfps = cashflow / current_shares # We use the share number reported in the same period as the Cash Flow (TTM)\n",
        "print(f\"Cash Flow per Share (CFPS): {cfps:.2f}$\")"
      ],
      "metadata": {
        "colab": {
          "base_uri": "https://localhost:8080/"
        },
        "id": "NShgjvt9C4nB",
        "outputId": "7eeb9fd4-4290-4f41-c71a-cce0b5cc2d66"
      },
      "execution_count": 18,
      "outputs": [
        {
          "output_type": "stream",
          "name": "stdout",
          "text": [
            "Book Value per Share (BVPS): 3.24$\n",
            "Earnings per Share (EPS): 3.15$\n",
            "Cash Flow per Share (CFPS): 3.12$\n"
          ]
        }
      ]
    },
    {
      "cell_type": "markdown",
      "source": [
        "## 2.4 Cash Flow: the only metric that should matter"
      ],
      "metadata": {
        "id": "K77CU3Ufzu5K"
      }
    },
    {
      "cell_type": "markdown",
      "source": [
        "The cash flow reflects a company's ability to generate liquidity from its operations, financing, and investing activities.\n",
        "\n",
        "This is what investors would care about if they weren’t too busy chasing AI stonks and meme coins."
      ],
      "metadata": {
        "id": "7sJD1FOqz9j7"
      }
    },
    {
      "cell_type": "code",
      "source": [
        "print(f\"Cash Flow: {cashflow:,.0f}$\")\n",
        "\n",
        "print(f\"Free Cash Flow: {free_cashflow:,.0f}$\")\n",
        "\n",
        "fcf_yield = free_cashflow / current_market_cap\n",
        "print(f\"Free Cash Flow Yield: {fcf_yield:.2%}\")"
      ],
      "metadata": {
        "colab": {
          "base_uri": "https://localhost:8080/"
        },
        "id": "jMvKcUzK0nxI",
        "outputId": "a094ca18-0f71-4d9d-d916-61974975e92b"
      },
      "execution_count": 19,
      "outputs": [
        {
          "output_type": "stream",
          "name": "stdout",
          "text": [
            "Cash Flow: 76,158,000,000$\n",
            "Free Cash Flow: 72,064,000,000$\n",
            "Free Cash Flow Yield: 1.70%\n"
          ]
        }
      ]
    },
    {
      "cell_type": "markdown",
      "source": [
        "## 2.5. Valuation Ratios (Multiples): now entering Wonderland"
      ],
      "metadata": {
        "id": "OaQnG6zuzbBw"
      }
    },
    {
      "cell_type": "markdown",
      "source": [
        "Indicators most commonly used in financial investments. They allow us to compare companies from the same sector and competitors in the market.\n",
        "\n",
        "They just sound nice and smart, stock price will do whatever it wants anyway."
      ],
      "metadata": {
        "id": "pqq6nOaCzpWY"
      }
    },
    {
      "cell_type": "code",
      "source": [
        "# Price to Book Value (PBV)\n",
        "p_bv = current_price / bvps\n",
        "print(f\"Price to Book Value (P/BV): x{p_bv:.2f}\")"
      ],
      "metadata": {
        "colab": {
          "base_uri": "https://localhost:8080/"
        },
        "id": "4AraqhbK6q8d",
        "outputId": "165a898e-54af-4284-a5ff-882e542bdcce"
      },
      "execution_count": 20,
      "outputs": [
        {
          "output_type": "stream",
          "name": "stdout",
          "text": [
            "Price to Book Value (P/BV): x53.60\n"
          ]
        }
      ]
    },
    {
      "cell_type": "code",
      "source": [
        "# Price to Earnings Ratio (PER)\n",
        "per = current_price / eps\n",
        "print(f\"Price to Earnings Ratio (PER or P/E): x{per:.2f}\")"
      ],
      "metadata": {
        "colab": {
          "base_uri": "https://localhost:8080/"
        },
        "id": "J8gc6x5tGN7-",
        "outputId": "a10e7652-99ab-4e9b-f177-3b845dcafe95"
      },
      "execution_count": 21,
      "outputs": [
        {
          "output_type": "stream",
          "name": "stdout",
          "text": [
            "Price to Earnings Ratio (PER or P/E): x55.18\n"
          ]
        }
      ]
    },
    {
      "cell_type": "code",
      "source": [
        "# Enterprise Value to EBITDA (EV/EBITDA)\n",
        "enterprise_value = current_market_cap + total_liabilities - cash # Enterprise Value (EV) must be calculated first\n",
        "ev_ebitda = enterprise_value / ebitda\n",
        "print(f\"Enterprise Value to EBITDA (EV/EBITDA): x{ev_ebitda:.2f}\")"
      ],
      "metadata": {
        "colab": {
          "base_uri": "https://localhost:8080/"
        },
        "id": "NG7sRWFrG0je",
        "outputId": "1b596c75-c666-405f-8896-564bedda96c1"
      },
      "execution_count": 22,
      "outputs": [
        {
          "output_type": "stream",
          "name": "stdout",
          "text": [
            "Enterprise Value to EBITDA (EV/EBITDA): x46.93\n"
          ]
        }
      ]
    },
    {
      "cell_type": "code",
      "source": [
        "# Price to Cash Flow per share (PCF)\n",
        "pcf = current_price / cfps\n",
        "print(f\"Price to Cash Flow (PCF): x{pcf:.2f}\")"
      ],
      "metadata": {
        "colab": {
          "base_uri": "https://localhost:8080/"
        },
        "id": "ehHuOERKNjj9",
        "outputId": "2fb8f92e-98e3-45ef-ef6b-b1355f79329e"
      },
      "execution_count": 23,
      "outputs": [
        {
          "output_type": "stream",
          "name": "stdout",
          "text": [
            "Price to Cash Flow (PCF): x55.63\n"
          ]
        }
      ]
    },
    {
      "cell_type": "markdown",
      "source": [
        "# Outro\n",
        "That’s it, you made it to the end. Congrats, you survived corporate finance!\n",
        "\n",
        "Questions? Complaints? Passive-aggressive praise? Here is how to blackmail me: jeronimo.civil@gmail.com\n",
        "\n",
        "In case you somehow found this useful, here is my github user. Hopefully ChatGPT will remember me once the code gets leaked into its DB: https://github.com/JeronimoAgullo\n",
        "\n",
        "If you want to recruit me to fix your spreadsheets and presentations, here is my linkedin profile: https://www.linkedin.com/in/meetme-jeronimoagullo"
      ],
      "metadata": {
        "id": "OINFPlN02PR3"
      }
    }
  ]
}