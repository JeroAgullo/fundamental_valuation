{
  "nbformat": 4,
  "nbformat_minor": 0,
  "metadata": {
    "colab": {
      "provenance": [],
      "collapsed_sections": [
        "w03Bgoe87_x7",
        "PSAQP-nZfsw0",
        "rPhSvGNxf0uP",
        "6ukX9_PjnX9G",
        "OaQnG6zuzbBw"
      ],
      "toc_visible": true,
      "authorship_tag": "ABX9TyMGYscQtzBIvhZ6waYsVYJP",
      "include_colab_link": true
    },
    "kernelspec": {
      "name": "python3",
      "display_name": "Python 3"
    },
    "language_info": {
      "name": "python"
    }
  },
  "cells": [
    {
      "cell_type": "markdown",
      "metadata": {
        "id": "view-in-github",
        "colab_type": "text"
      },
      "source": [
        "<a href=\"https://colab.research.google.com/github/JeroAgullo/fundamental_valuation/blob/main/fundamental_valuation.ipynb\" target=\"_parent\"><img src=\"https://colab.research.google.com/assets/colab-badge.svg\" alt=\"Open In Colab\"/></a>"
      ]
    },
    {
      "cell_type": "markdown",
      "source": [
        "# 1. Fundamental Valuation using Python"
      ],
      "metadata": {
        "id": "6daL5lqrBVRH"
      }
    },
    {
      "cell_type": "markdown",
      "source": [
        "## 1.1. Introduction"
      ],
      "metadata": {
        "id": "lRW4YI5NmyHi"
      }
    },
    {
      "cell_type": "markdown",
      "source": [
        "**Project Approach**  \n",
        "This project provides a fundamental valuation of NVIDIA Corporation (NVDA) using Python tools and financial data sourced from the Yahoo Finance API via the **yfinance** library.\n",
        "\n",
        "The notebook parses and standardizes key financial statement elements into a format that facilitates **ratio analysis and valuation modeling**.\n",
        "\n",
        "**Fundamental Analysis**  \n",
        "Fundamental analysis is a method used in accounting and finance to estimate the **intrinsic value of a security** in order to help with investment decisions.\n",
        "\n",
        "Unlike technical analysis, which focuses on price trends, fundamental analysis seeks to determine the \"true\" value of a security to identify whether it is overvalued, undervalued, or fairly valued **compared with its current market price**."
      ],
      "metadata": {
        "id": "cYAHHIEbPyT-"
      }
    },
    {
      "cell_type": "markdown",
      "source": [
        "## 1.2. First steps"
      ],
      "metadata": {
        "id": "4uswBrCa_mDW"
      }
    },
    {
      "cell_type": "markdown",
      "source": [
        "We will start by importing the needed libraries. Then, we are creating an object for the chosen company using yfinance's function '.Ticker', allowing us to get all its public financial information.\n",
        "\n",
        "We are using NVIDIA's ticker (the market \"ID\") for this project, but any other ticker can be applied. Here is a list of companies in the S&P500 Index, and their ticker:\n",
        "\n",
        "https://en.wikipedia.org/wiki/List_of_S%26P_500_companies"
      ],
      "metadata": {
        "id": "G8tshAJ-qppM"
      }
    },
    {
      "cell_type": "code",
      "execution_count": null,
      "metadata": {
        "id": "Ob3iIJpMRDXH"
      },
      "outputs": [],
      "source": [
        "# Libraries import\n",
        "import yfinance as yf\n",
        "import pandas as pd"
      ]
    },
    {
      "cell_type": "code",
      "source": [
        "# NVIDIA object creation\n",
        "ticker = yf.Ticker(\"NVDA\")"
      ],
      "metadata": {
        "id": "t0oeuQlrm3rF"
      },
      "execution_count": null,
      "outputs": []
    },
    {
      "cell_type": "code",
      "source": [
        "# Connection check\n",
        "headers = ticker.balance_sheet.index.tolist() # We will print the headers of the Income Statement report\n",
        "for h in headers:\n",
        "  print(h)"
      ],
      "metadata": {
        "id": "-_cjGiO_Vhjk",
        "colab": {
          "base_uri": "https://localhost:8080/"
        },
        "outputId": "375e3c86-5c46-4379-ac0a-b4de788a7894"
      },
      "execution_count": null,
      "outputs": [
        {
          "output_type": "stream",
          "name": "stdout",
          "text": [
            "Treasury Shares Number\n",
            "Ordinary Shares Number\n",
            "Share Issued\n",
            "Net Debt\n",
            "Total Debt\n",
            "Tangible Book Value\n",
            "Invested Capital\n",
            "Working Capital\n",
            "Net Tangible Assets\n",
            "Capital Lease Obligations\n",
            "Common Stock Equity\n",
            "Total Capitalization\n",
            "Total Equity Gross Minority Interest\n",
            "Stockholders Equity\n",
            "Gains Losses Not Affecting Retained Earnings\n",
            "Other Equity Adjustments\n",
            "Treasury Stock\n",
            "Retained Earnings\n",
            "Additional Paid In Capital\n",
            "Capital Stock\n",
            "Common Stock\n",
            "Preferred Stock\n",
            "Total Liabilities Net Minority Interest\n",
            "Total Non Current Liabilities Net Minority Interest\n",
            "Other Non Current Liabilities\n",
            "Employee Benefits\n",
            "Tradeand Other Payables Non Current\n",
            "Non Current Deferred Liabilities\n",
            "Non Current Deferred Revenue\n",
            "Non Current Deferred Taxes Liabilities\n",
            "Long Term Debt And Capital Lease Obligation\n",
            "Long Term Capital Lease Obligation\n",
            "Long Term Debt\n",
            "Current Liabilities\n",
            "Other Current Liabilities\n",
            "Current Deferred Liabilities\n",
            "Current Deferred Revenue\n",
            "Current Debt And Capital Lease Obligation\n",
            "Current Capital Lease Obligation\n",
            "Current Debt\n",
            "Other Current Borrowings\n",
            "Current Provisions\n",
            "Payables And Accrued Expenses\n",
            "Current Accrued Expenses\n",
            "Interest Payable\n",
            "Payables\n",
            "Total Tax Payable\n",
            "Accounts Payable\n",
            "Total Assets\n",
            "Total Non Current Assets\n",
            "Other Non Current Assets\n",
            "Non Current Prepaid Assets\n",
            "Non Current Deferred Assets\n",
            "Non Current Deferred Taxes Assets\n",
            "Non Current Accounts Receivable\n",
            "Investments And Advances\n",
            "Other Investments\n",
            "Investmentin Financial Assets\n",
            "Available For Sale Securities\n",
            "Goodwill And Other Intangible Assets\n",
            "Other Intangible Assets\n",
            "Goodwill\n",
            "Net PPE\n",
            "Accumulated Depreciation\n",
            "Gross PPE\n",
            "Leases\n",
            "Construction In Progress\n",
            "Other Properties\n",
            "Machinery Furniture Equipment\n",
            "Buildings And Improvements\n",
            "Land And Improvements\n",
            "Properties\n",
            "Current Assets\n",
            "Other Current Assets\n",
            "Prepaid Assets\n",
            "Inventory\n",
            "Finished Goods\n",
            "Work In Process\n",
            "Raw Materials\n",
            "Receivables\n",
            "Accounts Receivable\n",
            "Allowance For Doubtful Accounts Receivable\n",
            "Gross Accounts Receivable\n",
            "Cash Cash Equivalents And Short Term Investments\n",
            "Other Short Term Investments\n",
            "Cash And Cash Equivalents\n"
          ]
        }
      ]
    },
    {
      "cell_type": "markdown",
      "source": [
        "## 1.3. Data extract"
      ],
      "metadata": {
        "id": "w03Bgoe87_x7"
      }
    },
    {
      "cell_type": "markdown",
      "source": [
        "We are now getting all the necessary data to proceed with the fundamental analysis. Not all the accessible information is needed, so we are selecting specific one from each Financial State (Financials):\n",
        "\n",
        "- Income Statement\n",
        "- Balance Sheet\n",
        "- Cashflow\n",
        "\n",
        "The market information (such as price or number of shares) will be also consulted for the more advanced financial valuations."
      ],
      "metadata": {
        "id": "8UOsaZEvrRzb"
      }
    },
    {
      "cell_type": "code",
      "source": [
        "# Auxiliar function to get only existing values and to limit error cases\n",
        "def safe_extract(df, row_name, column_name):\n",
        "    if row_name in df.index:\n",
        "        return df.loc[row_name, column_name]\n",
        "    else:\n",
        "        return None"
      ],
      "metadata": {
        "id": "mcdHRGi_SWiP"
      },
      "execution_count": null,
      "outputs": []
    },
    {
      "cell_type": "code",
      "source": [
        "# Data extract - Income Statement\n",
        "df = ticker.ttm_financials\n",
        "column_name = df.columns[0] # First column from the TTM (Trailing Twelve Months) report\n",
        "\n",
        "total_revenue = safe_extract(df, \"Total Revenue\", column_name)\n",
        "gross_profit = safe_extract(df, \"Gross Profit\", column_name)\n",
        "ebitda = safe_extract(df, \"EBITDA\", column_name)\n",
        "ebit = safe_extract(df, \"EBIT\", column_name)\n",
        "net_income = safe_extract(df, \"Net Income\", column_name)"
      ],
      "metadata": {
        "id": "tWVPHMy8phE9"
      },
      "execution_count": null,
      "outputs": []
    },
    {
      "cell_type": "code",
      "source": [
        "# Data extract - Balance Sheet\n",
        "df= ticker.balancesheet\n",
        "column_name = df.columns[0] # First column, to get only the latest accounting period report\n",
        "\n",
        "total_assets = safe_extract(df, \"Total Assets\", column_name)\n",
        "current_assets = safe_extract(df, \"Current Assets\", column_name)\n",
        "inventory = safe_extract(df, \"Inventory\", column_name)\n",
        "total_liabilities = safe_extract(df, \"Total Liabilities Net Minority Interest\", column_name)\n",
        "current_liabilities = safe_extract(df, \"Current Liabilities\", column_name)\n",
        "total_equity = safe_extract(df, \"Total Equity Gross Minority Interest\", column_name)\n",
        "cash = safe_extract(df, \"Cash And Cash Equivalents\", column_name)\n",
        "ordinary_shares = safe_extract(df, \"Ordinary Shares Number\", column_name)"
      ],
      "metadata": {
        "id": "xkSA9-T2pjAi"
      },
      "execution_count": null,
      "outputs": []
    },
    {
      "cell_type": "code",
      "source": [
        "# Data extract - Cashflow\n",
        "df = ticker.ttm_cash_flow\n",
        "column_name = df.columns[0] # First column from the TTM (Trailing Twelve Months) report\n",
        "\n",
        "cashflow = safe_extract(df, \"Operating Cash Flow\", column_name)\n",
        "free_cashflow = safe_extract(df, \"Free Cash Flow\", column_name)"
      ],
      "metadata": {
        "id": "Z8b7w43XtPm7"
      },
      "execution_count": null,
      "outputs": []
    },
    {
      "cell_type": "code",
      "source": [
        "# Data extract - Market information\n",
        "df = ticker.info\n",
        "\n",
        "current_price = df[\"currentPrice\"]\n",
        "current_shares = df[\"sharesOutstanding\"]\n",
        "current_market_cap = df[\"marketCap\"]"
      ],
      "metadata": {
        "id": "N7PCU2_SAJ-D"
      },
      "execution_count": null,
      "outputs": []
    },
    {
      "cell_type": "code",
      "source": [
        "# Results print\n",
        "print(\"Income Statement results\")\n",
        "print(f\"Total Revenue: {total_revenue:,.0f}$\")\n",
        "print(f\"Total Profit: {gross_profit:,.0f}\")\n",
        "print(f\"EBITDA: {ebitda:,.0f}$\")\n",
        "print(f\"EBIT: {ebit:,.0f}$\")\n",
        "print(f\"Net Income: {net_income:,.0f}$\")\n",
        "\n",
        "print(\"\\nBalance Sheet results\")\n",
        "print(f\"Total Assets: {total_assets:,.0f}$\")\n",
        "print(f\"Total Liabilities: {total_liabilities:,.0f}$\")\n",
        "print(f\"Total Equity: {total_equity:,.0f}$\")\n",
        "print(f\"Cash: {cash:,.0f}$\")\n",
        "\n",
        "\n",
        "print(\"\\nCashflow results\")\n",
        "print(f\"Cash Flow: {cashflow:,.0f}$\")\n",
        "print(f\"Free Cash Flow: {free_cashflow:,.0f}$\")\n",
        "\n",
        "print(\"\\nMarket information\")\n",
        "print(f\"Current Price: {current_price:,.2f}$\")\n",
        "print(f\"Current Shares: {current_shares:,.0f}\")\n",
        "print(f\"Current Market Cap: {current_market_cap:,.0f}$\")"
      ],
      "metadata": {
        "colab": {
          "base_uri": "https://localhost:8080/"
        },
        "id": "URcvOWZ5SMkN",
        "outputId": "94b23250-7c6e-4ba1-9b6d-12fdc22690f0"
      },
      "execution_count": null,
      "outputs": [
        {
          "output_type": "stream",
          "name": "stdout",
          "text": [
            "Income Statement results\n",
            "Total Revenue: 148,515,000,000$\n",
            "Total Profit: 104,120,000,000\n",
            "EBITDA: 90,968,000,000$\n",
            "EBIT: 88,903,000,000$\n",
            "Net Income: 76,774,000,000$\n",
            "\n",
            "Balance Sheet results\n",
            "Total Assets: 111,601,000,000$\n",
            "Total Liabilities: 32,274,000,000$\n",
            "Total Equity: 79,327,000,000$\n",
            "Cash: 8,589,000,000$\n",
            "\n",
            "Cashflow results\n",
            "Cash Flow: 76,158,000,000$\n",
            "Free Cash Flow: 72,064,000,000$\n",
            "\n",
            "Market information\n",
            "Current Price: 173.72$\n",
            "Current Shares: 24,387,600,384\n",
            "Current Market Cap: 4,236,614,041,600$\n"
          ]
        }
      ]
    },
    {
      "cell_type": "markdown",
      "source": [
        "# 2. Financial Ratios"
      ],
      "metadata": {
        "id": "ETGxZpbA8JRg"
      }
    },
    {
      "cell_type": "markdown",
      "source": [
        "## 2.1. Introduction"
      ],
      "metadata": {
        "id": "PSAQP-nZfsw0"
      }
    },
    {
      "cell_type": "markdown",
      "source": [
        "Financial ratios are quantitative metrics derived from Financial Statements' data, allowing us to simplify the interpretation of such raw information.\n",
        "\n",
        "These ratios will gives us a clear data-driven picture of the studied security and its past and current health, being a key part of fundamental valuation. They can be structured as followed:\n",
        "\n",
        "- Leverage and Liquidity Ratios\n",
        "- Profitability Ratios\n",
        "- Valuation Ratios (Multiples)"
      ],
      "metadata": {
        "id": "EnqfwRIQSaS4"
      }
    },
    {
      "cell_type": "markdown",
      "source": [
        "## 2.2. Leverage and Liquidity Ratios"
      ],
      "metadata": {
        "id": "rPhSvGNxf0uP"
      }
    },
    {
      "cell_type": "markdown",
      "source": [
        "Indicators that let us know the company's the strength of its capital structure and the capacity to attend to its long-term (leverage) and its short-term obligations (liquidity)."
      ],
      "metadata": {
        "id": "qSr4OG9phEWF"
      }
    },
    {
      "cell_type": "code",
      "source": [
        "# Leverage Ratios\n",
        "debt_equity = total_liabilities / total_equity\n",
        "print(f\"Debt to Equity (D/E) Ratio: {debt_equity:.2%}\")\n",
        "\n",
        "debt_asset = total_liabilities / total_assets\n",
        "print(f\"Debt to Asset (D/A) Ratio: {debt_asset:.2%}\")"
      ],
      "metadata": {
        "colab": {
          "base_uri": "https://localhost:8080/"
        },
        "id": "NbbD9Oy2iON8",
        "outputId": "a92aab6e-99c2-4698-9421-99042ffd47df"
      },
      "execution_count": null,
      "outputs": [
        {
          "output_type": "stream",
          "name": "stdout",
          "text": [
            "Debt to Equity (D/E) Ratio: 40.68%\n",
            "Debt to Asset (D/A) Ratio: 28.92%\n"
          ]
        }
      ]
    },
    {
      "cell_type": "code",
      "source": [
        "# Liquidity Ratios\n",
        "current = current_assets / current_liabilities\n",
        "print(f\"Current Ratio: {current:.2%}\")\n",
        "\n",
        "quick = (current_assets - inventory) / current_liabilities\n",
        "print(f\"Quick (Acid) Ratio: {quick:.2%}\")\n",
        "\n",
        "cash = cash / current_liabilities\n",
        "print(f\"Cash Ratio: {cash:.2%}\")"
      ],
      "metadata": {
        "colab": {
          "base_uri": "https://localhost:8080/"
        },
        "id": "nDIUfpM2jPzA",
        "outputId": "cb224ea2-7ae4-4c75-8f7b-5e27a29e43c9"
      },
      "execution_count": null,
      "outputs": [
        {
          "output_type": "stream",
          "name": "stdout",
          "text": [
            "Current Ratio: 443.99%\n",
            "Quick (Acid) Ratio: 388.13%\n",
            "Cash Ratio: 47.59%\n"
          ]
        }
      ]
    },
    {
      "cell_type": "markdown",
      "source": [
        "## 2.3. Profitability Ratios"
      ],
      "metadata": {
        "id": "6ukX9_PjnX9G"
      }
    },
    {
      "cell_type": "markdown",
      "source": [
        "Indicators that let us know, not only if the company can attend to its obligations, but also if it gives profit to its owners."
      ],
      "metadata": {
        "id": "rQ5v3XPondEJ"
      }
    },
    {
      "cell_type": "code",
      "source": [
        "# Return Ratios\n",
        "roi = net_income / total_revenue\n",
        "print(f\"Return on Investment (ROI): {roi:.2%}\")\n",
        "\n",
        "roe = net_income / total_equity\n",
        "print(f\"Return on Equity (ROE): {roe:.2%}\")\n",
        "\n",
        "roa = net_income / total_assets\n",
        "print(f\"Return on Assets (ROA): {roa:.2%}\")"
      ],
      "metadata": {
        "colab": {
          "base_uri": "https://localhost:8080/"
        },
        "id": "2E3s5bI7oGGJ",
        "outputId": "b8d7d7b5-4304-439d-d9d3-65c157d056f2"
      },
      "execution_count": null,
      "outputs": [
        {
          "output_type": "stream",
          "name": "stdout",
          "text": [
            "Return on Investment (ROI): 51.69%\n",
            "Return on Equity (ROE): 96.78%\n",
            "Return on Assets (ROA): 68.79%\n"
          ]
        }
      ]
    },
    {
      "cell_type": "code",
      "source": [
        "# Efficency Ratios\n",
        "gross_margin = gross_profit / total_revenue\n",
        "print(f\"Gross Margin: {gross_margin:.2%}\")\n",
        "\n",
        "ebitda_margin = ebitda / total_revenue\n",
        "print(f\"EBITDA Margin: {ebitda_margin:.2%}\")\n",
        "\n",
        "fcf_revenue = free_cashflow / total_revenue\n",
        "print(f\"Free Cash Flow Margin: {fcf_revenue:.2%}\")"
      ],
      "metadata": {
        "colab": {
          "base_uri": "https://localhost:8080/"
        },
        "id": "qW_BVX7upp4C",
        "outputId": "69f1af45-5292-4e6b-caa3-e0eb758e6ab7"
      },
      "execution_count": null,
      "outputs": [
        {
          "output_type": "stream",
          "name": "stdout",
          "text": [
            "Gross Margin: 70.11%\n",
            "EBITDA Margin: 61.25%\n",
            "Free Cash Flow Margin: 48.52%\n"
          ]
        }
      ]
    },
    {
      "cell_type": "code",
      "source": [
        "# Share Ratios\n",
        "bvps = total_equity / ordinary_shares # We use the share number reported in the same period as the Equity (Accounting Period)\n",
        "print(f\"Book Value per Share (BVPS): {bvps:.2f}$\")\n",
        "\n",
        "eps = net_income / current_shares # We use the share number reported in the same period as the Net Income (TTM)\n",
        "print(f\"Earnings per Share (EPS): {eps:.2f}$\")\n",
        "\n",
        "cfps = cashflow / current_shares # We use the share number reported in the same period as the Cash Flow (TTM)\n",
        "print(f\"Cash Flow per Share (CFPS): {cfps:.2f}$\")"
      ],
      "metadata": {
        "colab": {
          "base_uri": "https://localhost:8080/"
        },
        "id": "NShgjvt9C4nB",
        "outputId": "301bbb03-ee30-40ba-87ad-8843927de5b9"
      },
      "execution_count": null,
      "outputs": [
        {
          "output_type": "stream",
          "name": "stdout",
          "text": [
            "Book Value per Share (BVPS): 3.24$\n",
            "Earnings per Share (EPS): 3.15$\n",
            "Cash Flow per Share (CFPS): 3.12$\n"
          ]
        }
      ]
    },
    {
      "cell_type": "markdown",
      "source": [
        "## 2.4. Valuation Ratios (Multiples)"
      ],
      "metadata": {
        "id": "OaQnG6zuzbBw"
      }
    },
    {
      "cell_type": "markdown",
      "source": [
        "Indicators most commonly used in financial investments. They allow us to compare companies from the same sector and competitors in the market."
      ],
      "metadata": {
        "id": "pqq6nOaCzpWY"
      }
    },
    {
      "cell_type": "code",
      "source": [
        "# Price to Book Value (PBV)\n",
        "p_bv = current_price / bvps\n",
        "print(f\"Price to Book Value (P/BV): x{p_bv:.2f}\")"
      ],
      "metadata": {
        "colab": {
          "base_uri": "https://localhost:8080/"
        },
        "id": "4AraqhbK6q8d",
        "outputId": "b4e384aa-254e-4821-e037-8e61225adfe1"
      },
      "execution_count": null,
      "outputs": [
        {
          "output_type": "stream",
          "name": "stdout",
          "text": [
            "Price to Book Value (P/BV): x53.60\n"
          ]
        }
      ]
    },
    {
      "cell_type": "code",
      "source": [
        "# Price to Earnings Ratio (PER)\n",
        "per = current_price / eps\n",
        "print(f\"Price to Earnings Ratio (PER or P/E): x{per:.2f}\")"
      ],
      "metadata": {
        "colab": {
          "base_uri": "https://localhost:8080/"
        },
        "id": "J8gc6x5tGN7-",
        "outputId": "fe062372-c2b7-43e0-a239-c1a82d611e41"
      },
      "execution_count": null,
      "outputs": [
        {
          "output_type": "stream",
          "name": "stdout",
          "text": [
            "Price to Earnings Ratio (PER or P/E): x55.18\n"
          ]
        }
      ]
    },
    {
      "cell_type": "code",
      "source": [
        "# Enterprise Value to EBITDA (EV/EBITDA)\n",
        "enterprise_value = current_market_cap + total_liabilities - cash # Enterprise Value (EV) must be calculated first\n",
        "ev_ebitda = enterprise_value / ebitda\n",
        "print(f\"Enterprise Value to EBITDA (EV/EBITDA): x{ev_ebitda:.2f}\")"
      ],
      "metadata": {
        "colab": {
          "base_uri": "https://localhost:8080/"
        },
        "id": "NG7sRWFrG0je",
        "outputId": "d68647fe-75ae-4fea-f043-5c2f376a8110"
      },
      "execution_count": null,
      "outputs": [
        {
          "output_type": "stream",
          "name": "stdout",
          "text": [
            "Enterprise Value to EBITDA (EV/EBITDA): x46.93\n"
          ]
        }
      ]
    },
    {
      "cell_type": "code",
      "source": [
        "# Price to Cash Flow per share (PCF)\n",
        "pcf = current_price / cfps\n",
        "print(f\"Price to Cash Flow (PCF): x{pcf:.2f}\")"
      ],
      "metadata": {
        "colab": {
          "base_uri": "https://localhost:8080/"
        },
        "id": "ehHuOERKNjj9",
        "outputId": "71ba7862-ab5e-44a4-ec31-175f6026182e"
      },
      "execution_count": null,
      "outputs": [
        {
          "output_type": "stream",
          "name": "stdout",
          "text": [
            "Price to Cash Flow (PCF): x55.63\n"
          ]
        }
      ]
    }
  ]
}