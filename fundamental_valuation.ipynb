{
  "nbformat": 4,
  "nbformat_minor": 0,
  "metadata": {
    "colab": {
      "provenance": [],
      "collapsed_sections": [
        "lRW4YI5NmyHi",
        "4uswBrCa_mDW",
        "w03Bgoe87_x7"
      ],
      "toc_visible": true,
      "authorship_tag": "ABX9TyNAW4b1gu/ysIsxK+vw/sJs",
      "include_colab_link": true
    },
    "kernelspec": {
      "name": "python3",
      "display_name": "Python 3"
    },
    "language_info": {
      "name": "python"
    }
  },
  "cells": [
    {
      "cell_type": "markdown",
      "metadata": {
        "id": "view-in-github",
        "colab_type": "text"
      },
      "source": [
        "<a href=\"https://colab.research.google.com/github/JeroAgullo/fundamental_valuation/blob/main/fundamental_valuation.ipynb\" target=\"_parent\"><img src=\"https://colab.research.google.com/assets/colab-badge.svg\" alt=\"Open In Colab\"/></a>"
      ]
    },
    {
      "cell_type": "markdown",
      "source": [
        "# Fundamental Valuation using Python"
      ],
      "metadata": {
        "id": "6daL5lqrBVRH"
      }
    },
    {
      "cell_type": "markdown",
      "source": [
        "## Introduction"
      ],
      "metadata": {
        "id": "lRW4YI5NmyHi"
      }
    },
    {
      "cell_type": "markdown",
      "source": [
        "**Project Approach**  \n",
        "This project provides a fundamental valuation of NVIDIA Corporation (NVDA) using Python tools and financial data sourced from the Yahoo Finance API via the **yfinance** library.\n",
        "\n",
        "The notebook parses and standardizes key financial statement elements into a format that facilitates ratio analysis and valuation modeling.\n",
        "\n",
        "**Fundamental Analysis**  \n",
        "Fundamental analysis is a method used in accounting and finance to estimate the **intrinsic value of a security** in order to help with investment decisions.\n",
        "\n",
        "Unlike technical analysis, which focuses on price trends, fundamental analysis seeks to determine the \"true\" value of a security to identify whether it is overvalued, undervalued, or fairly valued compared with its current market price."
      ],
      "metadata": {
        "id": "cYAHHIEbPyT-"
      }
    },
    {
      "cell_type": "markdown",
      "source": [
        "## First steps"
      ],
      "metadata": {
        "id": "4uswBrCa_mDW"
      }
    },
    {
      "cell_type": "markdown",
      "source": [
        "We will start by importing the needed libraries. Then, we are creating an object for the chosen company using yfinance's function '.Ticker', allowing us to get all its public financial information.\n",
        "\n",
        "We are using NVIDIA's ticker (the market \"ID\") for this project, but any other ticker can be applied. Here is a list of companies in the S&P500 Index, and their ticker: https://en.wikipedia.org/wiki/List_of_S%26P_500_companie"
      ],
      "metadata": {
        "id": "G8tshAJ-qppM"
      }
    },
    {
      "cell_type": "code",
      "execution_count": 10,
      "metadata": {
        "id": "Ob3iIJpMRDXH"
      },
      "outputs": [],
      "source": [
        "# Libraries import\n",
        "import yfinance as yf\n",
        "import pandas as pd"
      ]
    },
    {
      "cell_type": "code",
      "source": [
        "# NVIDIA object creation\n",
        "nvda = yf.Ticker(\"NVDA\")"
      ],
      "metadata": {
        "id": "t0oeuQlrm3rF"
      },
      "execution_count": 11,
      "outputs": []
    },
    {
      "cell_type": "code",
      "source": [
        "# Connection check\n",
        "headers = nvda.financials.index.tolist() # We will print the headers of the Income Statement (Financials) report\n",
        "for h in headers:\n",
        "  print(h)"
      ],
      "metadata": {
        "id": "-_cjGiO_Vhjk",
        "colab": {
          "base_uri": "https://localhost:8080/"
        },
        "outputId": "6f28191f-8693-4319-cd51-e4ba584832d2"
      },
      "execution_count": 12,
      "outputs": [
        {
          "output_type": "stream",
          "name": "stdout",
          "text": [
            "Tax Effect Of Unusual Items\n",
            "Tax Rate For Calcs\n",
            "Normalized EBITDA\n",
            "Total Unusual Items\n",
            "Total Unusual Items Excluding Goodwill\n",
            "Net Income From Continuing Operation Net Minority Interest\n",
            "Reconciled Depreciation\n",
            "Reconciled Cost Of Revenue\n",
            "EBITDA\n",
            "EBIT\n",
            "Net Interest Income\n",
            "Interest Expense\n",
            "Interest Income\n",
            "Normalized Income\n",
            "Net Income From Continuing And Discontinued Operation\n",
            "Total Expenses\n",
            "Total Operating Income As Reported\n",
            "Diluted Average Shares\n",
            "Basic Average Shares\n",
            "Diluted EPS\n",
            "Basic EPS\n",
            "Diluted NI Availto Com Stockholders\n",
            "Net Income Common Stockholders\n",
            "Net Income\n",
            "Net Income Including Noncontrolling Interests\n",
            "Net Income Continuous Operations\n",
            "Tax Provision\n",
            "Pretax Income\n",
            "Other Income Expense\n",
            "Other Non Operating Income Expenses\n",
            "Special Income Charges\n",
            "Restructuring And Mergern Acquisition\n",
            "Net Non Operating Interest Income Expense\n",
            "Interest Expense Non Operating\n",
            "Interest Income Non Operating\n",
            "Operating Income\n",
            "Operating Expense\n",
            "Research And Development\n",
            "Selling General And Administration\n",
            "Gross Profit\n",
            "Cost Of Revenue\n",
            "Total Revenue\n",
            "Operating Revenue\n"
          ]
        }
      ]
    },
    {
      "cell_type": "markdown",
      "source": [
        "## Data extract"
      ],
      "metadata": {
        "id": "w03Bgoe87_x7"
      }
    },
    {
      "cell_type": "markdown",
      "source": [
        "We are now getting all the necessary data to proceed with the fundamental analysis. Not all the accessible information is needed, so we are selecting specific one from each Financial State:\n",
        "- Income Statement (Financials)\n",
        "- Balance Sheet\n",
        "- Cashflow"
      ],
      "metadata": {
        "id": "8UOsaZEvrRzb"
      }
    },
    {
      "cell_type": "code",
      "source": [
        "# Auxiliar function to get only existing values and to limit error cases\n",
        "def safe_extract(df, row_name, column_name):\n",
        "    if row_name in df.index:\n",
        "        return df.loc[row_name, column_name]\n",
        "    else:\n",
        "        return None"
      ],
      "metadata": {
        "id": "mcdHRGi_SWiP"
      },
      "execution_count": 13,
      "outputs": []
    },
    {
      "cell_type": "code",
      "source": [
        "# Data extract - Income Statement\n",
        "df = nvda.financials\n",
        "column_name = df.columns[1]\n",
        "\n",
        "total_revenue = safe_extract(df, \"Total Revenue\", column_name)\n",
        "gross_profit = safe_extract(df, \"Gross Profit\", column_name)\n",
        "ebitda = safe_extract(df, \"EBITDA\", column_name)\n",
        "ebit = safe_extract(df, \"EBIT\", column_name)\n",
        "net_income = safe_extract(df, \"Net Income\", column_name)"
      ],
      "metadata": {
        "id": "tWVPHMy8phE9"
      },
      "execution_count": 14,
      "outputs": []
    },
    {
      "cell_type": "code",
      "source": [
        "# Data extract - Balance Sheet\n",
        "df= nvda.balance_sheet\n",
        "column_name = df.columns[0]\n",
        "\n",
        "total_assets = safe_extract(df, \"Total Assets\", column_name)\n",
        "total_lianilities = safe_extract(df, \"Total Liabilities Net Minority Interest\", column_name)\n",
        "total_equity = safe_extract(df, \"Total Equity Gross Minority Interest\", column_name)\n",
        "cash = safe_extract(df, \"Cash And Cash Equivalents\", column_name)"
      ],
      "metadata": {
        "id": "xkSA9-T2pjAi"
      },
      "execution_count": 15,
      "outputs": []
    },
    {
      "cell_type": "code",
      "source": [
        "# Data print\n",
        "print(\"Income Statement results:\")\n",
        "print(f\"Total Revenue: {total_revenue:,.0f}$\")\n",
        "print(f\"Total Profit: {gross_profit:,.0f}\")\n",
        "print(f\"EBITDA: {ebitda:,.0f}$\")\n",
        "print(f\"EBIT: {ebit:,.0f}$\")\n",
        "print(f\"Net Income: {net_income:,.0f}$\")\n",
        "\n",
        "print(\"\\nBalance Sheet results:\")\n",
        "print(f\"Total Assets: {total_assets:,.0f}$\")\n",
        "print(f\"Total Liabilities: {total_lianilities:,.0f}$\")\n",
        "print(f\"Total Equity: {total_equity:,.0f}$\")\n",
        "print(f\"Cash: {cash:,.0f}$\")"
      ],
      "metadata": {
        "colab": {
          "base_uri": "https://localhost:8080/"
        },
        "id": "URcvOWZ5SMkN",
        "outputId": "7790b8ee-9f91-4d37-ef05-06e576b3982d"
      },
      "execution_count": 16,
      "outputs": [
        {
          "output_type": "stream",
          "name": "stdout",
          "text": [
            "Income Statement results:\n",
            "Total Revenue: 60,922,000,000$\n",
            "Total Profit: 44,301,000,000\n",
            "EBITDA: 35,583,000,000$\n",
            "EBIT: 34,075,000,000$\n",
            "Net Income: 29,760,000,000$\n",
            "\n",
            "Balance Sheet results:\n",
            "Total Assets: 111,601,000,000$\n",
            "Total Liabilities: 32,274,000,000$\n",
            "Total Equity: 79,327,000,000$\n",
            "Cash: 8,589,000,000$\n"
          ]
        }
      ]
    },
    {
      "cell_type": "markdown",
      "source": [
        "## Financial Ratios"
      ],
      "metadata": {
        "id": "ETGxZpbA8JRg"
      }
    },
    {
      "cell_type": "markdown",
      "source": [],
      "metadata": {
        "id": "EnqfwRIQSaS4"
      }
    },
    {
      "cell_type": "code",
      "source": [
        "roe = net_income / total_equity\n",
        "print(f\"ROE: {roe:.2%}\")\n",
        "\n",
        "cash_ratio = cash / total_assets\n",
        "print(f\"Cash Ratio: {cash_ratio:.2%}\")\n",
        "\n",
        "debt_ratio = total_lianilities / total_assets\n",
        "print(f\"Debt Ratio: {debt_ratio:.2%}\")\n",
        "\n",
        "profit_revenue = gross_profit / total_revenue\n",
        "print(f\"Profit (as % of Revenue): {profit_revenue:.2%}\")\n",
        "\n",
        "ebitda_revenue = ebitda / total_revenue\n",
        "print(f\"EBITDA (as % of Revenue): {ebitda_revenue:.2%}\")"
      ],
      "metadata": {
        "id": "lvDYci-J3aTP",
        "colab": {
          "base_uri": "https://localhost:8080/"
        },
        "outputId": "1dfb5fb6-bfad-490c-b61b-ba7ee090d94d"
      },
      "execution_count": null,
      "outputs": [
        {
          "output_type": "stream",
          "name": "stdout",
          "text": [
            "ROE: 37.52%\n",
            "Cash Ratio: 7.70%\n",
            "Debt Ratio: 28.92%\n",
            "Profit (as % of Revenue): 72.72%\n",
            "EBITDA (as % of Revenue): 58.41%\n"
          ]
        }
      ]
    }
  ]
}