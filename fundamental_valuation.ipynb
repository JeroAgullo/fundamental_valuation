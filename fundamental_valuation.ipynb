{
  "nbformat": 4,
  "nbformat_minor": 0,
  "metadata": {
    "colab": {
      "provenance": [],
      "collapsed_sections": [
        "lRW4YI5NmyHi",
        "4uswBrCa_mDW",
        "w03Bgoe87_x7",
        "PSAQP-nZfsw0",
        "rPhSvGNxf0uP",
        "6ukX9_PjnX9G"
      ],
      "toc_visible": true,
      "authorship_tag": "ABX9TyPNzYMJmwdsuXNHTb7wE/tJ",
      "include_colab_link": true
    },
    "kernelspec": {
      "name": "python3",
      "display_name": "Python 3"
    },
    "language_info": {
      "name": "python"
    }
  },
  "cells": [
    {
      "cell_type": "markdown",
      "metadata": {
        "id": "view-in-github",
        "colab_type": "text"
      },
      "source": [
        "<a href=\"https://colab.research.google.com/github/JeroAgullo/fundamental_valuation/blob/main/fundamental_valuation.ipynb\" target=\"_parent\"><img src=\"https://colab.research.google.com/assets/colab-badge.svg\" alt=\"Open In Colab\"/></a>"
      ]
    },
    {
      "cell_type": "markdown",
      "source": [
        "# 1. Fundamental Valuation using Python"
      ],
      "metadata": {
        "id": "6daL5lqrBVRH"
      }
    },
    {
      "cell_type": "markdown",
      "source": [
        "## 1.1. Introduction"
      ],
      "metadata": {
        "id": "lRW4YI5NmyHi"
      }
    },
    {
      "cell_type": "markdown",
      "source": [
        "**Project Approach**  \n",
        "This project provides a fundamental valuation of NVIDIA Corporation (NVDA) using Python tools and financial data sourced from the Yahoo Finance API via the **yfinance** library.\n",
        "\n",
        "The notebook parses and standardizes key financial statement elements into a format that facilitates **ratio analysis and valuation modeling**.\n",
        "\n",
        "**Fundamental Analysis**  \n",
        "Fundamental analysis is a method used in accounting and finance to estimate the **intrinsic value of a security** in order to help with investment decisions.\n",
        "\n",
        "Unlike technical analysis, which focuses on price trends, fundamental analysis seeks to determine the \"true\" value of a security to identify whether it is overvalued, undervalued, or fairly valued **compared with its current market price**."
      ],
      "metadata": {
        "id": "cYAHHIEbPyT-"
      }
    },
    {
      "cell_type": "markdown",
      "source": [
        "## 1.2. First steps"
      ],
      "metadata": {
        "id": "4uswBrCa_mDW"
      }
    },
    {
      "cell_type": "markdown",
      "source": [
        "We will start by importing the needed libraries. Then, we are creating an object for the chosen company using yfinance's function '.Ticker', allowing us to get all its public financial information.\n",
        "\n",
        "We are using NVIDIA's ticker (the market \"ID\") for this project, but any other ticker can be applied. Here is a list of companies in the S&P500 Index, and their ticker: https://en.wikipedia.org/wiki/List_of_S%26P_500_companie"
      ],
      "metadata": {
        "id": "G8tshAJ-qppM"
      }
    },
    {
      "cell_type": "code",
      "execution_count": 34,
      "metadata": {
        "id": "Ob3iIJpMRDXH"
      },
      "outputs": [],
      "source": [
        "# Libraries import\n",
        "import yfinance as yf\n",
        "import pandas as pd"
      ]
    },
    {
      "cell_type": "code",
      "source": [
        "# NVIDIA object creation\n",
        "nvda = yf.Ticker(\"NVDA\")"
      ],
      "metadata": {
        "id": "t0oeuQlrm3rF"
      },
      "execution_count": 35,
      "outputs": []
    },
    {
      "cell_type": "code",
      "source": [
        "# Connection check\n",
        "headers = nvda.financials.index.tolist() # We will print the headers of the Income Statement report\n",
        "for h in headers:\n",
        "  print(h)"
      ],
      "metadata": {
        "id": "-_cjGiO_Vhjk",
        "colab": {
          "base_uri": "https://localhost:8080/"
        },
        "outputId": "b8d0f99d-e45a-46d8-d043-c20838a4bfa9"
      },
      "execution_count": 36,
      "outputs": [
        {
          "output_type": "stream",
          "name": "stdout",
          "text": [
            "Tax Effect Of Unusual Items\n",
            "Tax Rate For Calcs\n",
            "Normalized EBITDA\n",
            "Total Unusual Items\n",
            "Total Unusual Items Excluding Goodwill\n",
            "Net Income From Continuing Operation Net Minority Interest\n",
            "Reconciled Depreciation\n",
            "Reconciled Cost Of Revenue\n",
            "EBITDA\n",
            "EBIT\n",
            "Net Interest Income\n",
            "Interest Expense\n",
            "Interest Income\n",
            "Normalized Income\n",
            "Net Income From Continuing And Discontinued Operation\n",
            "Total Expenses\n",
            "Total Operating Income As Reported\n",
            "Diluted Average Shares\n",
            "Basic Average Shares\n",
            "Diluted EPS\n",
            "Basic EPS\n",
            "Diluted NI Availto Com Stockholders\n",
            "Net Income Common Stockholders\n",
            "Net Income\n",
            "Net Income Including Noncontrolling Interests\n",
            "Net Income Continuous Operations\n",
            "Tax Provision\n",
            "Pretax Income\n",
            "Other Income Expense\n",
            "Other Non Operating Income Expenses\n",
            "Special Income Charges\n",
            "Restructuring And Mergern Acquisition\n",
            "Net Non Operating Interest Income Expense\n",
            "Interest Expense Non Operating\n",
            "Interest Income Non Operating\n",
            "Operating Income\n",
            "Operating Expense\n",
            "Research And Development\n",
            "Selling General And Administration\n",
            "Gross Profit\n",
            "Cost Of Revenue\n",
            "Total Revenue\n",
            "Operating Revenue\n"
          ]
        }
      ]
    },
    {
      "cell_type": "markdown",
      "source": [
        "## 1.3. Data extract"
      ],
      "metadata": {
        "id": "w03Bgoe87_x7"
      }
    },
    {
      "cell_type": "markdown",
      "source": [
        "We are now getting all the necessary data to proceed with the fundamental analysis. Not all the accessible information is needed, so we are selecting specific one from each Financial State (Financials):\n",
        "\n",
        "- Income Statement\n",
        "- Balance Sheet\n",
        "- Cashflow"
      ],
      "metadata": {
        "id": "8UOsaZEvrRzb"
      }
    },
    {
      "cell_type": "code",
      "source": [
        "# Auxiliar function to get only existing values and to limit error cases\n",
        "def safe_extract(df, row_name, column_name):\n",
        "    if row_name in df.index:\n",
        "        return df.loc[row_name, column_name]\n",
        "    else:\n",
        "        return None"
      ],
      "metadata": {
        "id": "mcdHRGi_SWiP"
      },
      "execution_count": 37,
      "outputs": []
    },
    {
      "cell_type": "code",
      "source": [
        "# Data extract - Income Statement\n",
        "df = nvda.financials\n",
        "column_name = df.columns[1] # Second column, to exclude YTD reports and to get only the latest accounting period information\n",
        "\n",
        "total_revenue = safe_extract(df, \"Total Revenue\", column_name)\n",
        "gross_profit = safe_extract(df, \"Gross Profit\", column_name)\n",
        "ebitda = safe_extract(df, \"EBITDA\", column_name)\n",
        "ebit = safe_extract(df, \"EBIT\", column_name)\n",
        "net_income = safe_extract(df, \"Net Income\", column_name)"
      ],
      "metadata": {
        "id": "tWVPHMy8phE9"
      },
      "execution_count": 38,
      "outputs": []
    },
    {
      "cell_type": "code",
      "source": [
        "# Data extract - Balance Sheet\n",
        "df= nvda.balance_sheet\n",
        "column_name = df.columns[0] # First column, to get only the latest accounting period information\n",
        "\n",
        "total_assets = safe_extract(df, \"Total Assets\", column_name)\n",
        "current_assets = safe_extract(df, \"Current Assets\", column_name)\n",
        "inventory = safe_extract(df, \"Inventory\", column_name)\n",
        "total_liabilities = safe_extract(df, \"Total Liabilities Net Minority Interest\", column_name)\n",
        "current_liabilities = safe_extract(df, \"Current Liabilities\", column_name)\n",
        "total_equity = safe_extract(df, \"Total Equity Gross Minority Interest\", column_name)\n",
        "cash = safe_extract(df, \"Cash And Cash Equivalents\", column_name)\n",
        "ordinary_shares = safe_extract(df, \"Ordinary Shares Number\", column_name)"
      ],
      "metadata": {
        "id": "xkSA9-T2pjAi"
      },
      "execution_count": 46,
      "outputs": []
    },
    {
      "cell_type": "code",
      "source": [
        "# Data extract - Cashflow\n",
        "df = nvda.cashflow\n",
        "column_name = df.columns[1] # Second column, to exclude YTD reports and to get only the latest accounting period information\n",
        "\n",
        "free_cashflow = safe_extract(df, \"Free Cash Flow\", column_name)"
      ],
      "metadata": {
        "id": "Z8b7w43XtPm7"
      },
      "execution_count": 40,
      "outputs": []
    },
    {
      "cell_type": "code",
      "source": [
        "# Data print\n",
        "print(\"Income Statement results\")\n",
        "print(f\"Total Revenue: {total_revenue:,.0f}$\")\n",
        "print(f\"Total Profit: {gross_profit:,.0f}\")\n",
        "print(f\"EBITDA: {ebitda:,.0f}$\")\n",
        "print(f\"EBIT: {ebit:,.0f}$\")\n",
        "print(f\"Net Income: {net_income:,.0f}$\")\n",
        "\n",
        "print(\"\\nBalance Sheet results\")\n",
        "print(f\"Total Assets: {total_assets:,.0f}$\")\n",
        "print(f\"Total Liabilities: {total_liabilities:,.0f}$\")\n",
        "print(f\"Total Equity: {total_equity:,.0f}$\")\n",
        "print(f\"Cash: {cash:,.0f}$\")"
      ],
      "metadata": {
        "colab": {
          "base_uri": "https://localhost:8080/"
        },
        "id": "URcvOWZ5SMkN",
        "outputId": "f91af729-cab4-431b-f41c-d589b503bafa"
      },
      "execution_count": 48,
      "outputs": [
        {
          "output_type": "stream",
          "name": "stdout",
          "text": [
            "Income Statement results\n",
            "Total Revenue: 60,922,000,000$\n",
            "Total Profit: 44,301,000,000\n",
            "EBITDA: 35,583,000,000$\n",
            "EBIT: 34,075,000,000$\n",
            "Net Income: 29,760,000,000$\n",
            "\n",
            "Balance Sheet results\n",
            "Total Assets: 111,601,000,000$\n",
            "Total Liabilities: 32,274,000,000$\n",
            "Total Equity: 79,327,000,000$\n",
            "Cash: 8,589,000,000$\n"
          ]
        }
      ]
    },
    {
      "cell_type": "markdown",
      "source": [
        "# 2. Financial Ratios"
      ],
      "metadata": {
        "id": "ETGxZpbA8JRg"
      }
    },
    {
      "cell_type": "markdown",
      "source": [
        "## 2.1. Introduction"
      ],
      "metadata": {
        "id": "PSAQP-nZfsw0"
      }
    },
    {
      "cell_type": "markdown",
      "source": [
        "Financial ratios are quantitative metrics derived from Financial Statements' data, allowing us to simplify the interpretation of such raw information.\n",
        "\n",
        "These ratios will gives us a clear data-driven picture of the studied security and its past and current health, being a key part of fundamental valuation. They can be structured as followed:\n",
        "\n",
        "- Leverage and Liquidity Ratios\n",
        "- Profitability Ratios\n",
        "- Valuation Ratios (Multiples)"
      ],
      "metadata": {
        "id": "EnqfwRIQSaS4"
      }
    },
    {
      "cell_type": "markdown",
      "source": [
        "## 2.2. Leverage and Liquidity Ratios"
      ],
      "metadata": {
        "id": "rPhSvGNxf0uP"
      }
    },
    {
      "cell_type": "markdown",
      "source": [
        "Indicators that let us know the company's the strength of its capital structure and the capacity to attend to its long-term (leverage) and its short-term obligations (liquidity)."
      ],
      "metadata": {
        "id": "qSr4OG9phEWF"
      }
    },
    {
      "cell_type": "code",
      "source": [
        "# Leverage Ratios\n",
        "debt_equity = total_liabilities / total_equity\n",
        "print(f\"Debt to Equity (D/E) Ratio: {debt_equity:.2%}\")\n",
        "\n",
        "debt_asset = total_liabilities / total_assets\n",
        "print(f\"Debt to Asset (D/A) Ratio: {debt_asset:.2%}\")"
      ],
      "metadata": {
        "colab": {
          "base_uri": "https://localhost:8080/"
        },
        "id": "NbbD9Oy2iON8",
        "outputId": "1de30d24-077e-4b76-a59b-f0560fbd582e"
      },
      "execution_count": 42,
      "outputs": [
        {
          "output_type": "stream",
          "name": "stdout",
          "text": [
            "Debt to Equity (D/E) Ratio: 40.68%\n",
            "Debt to Asset (D/A) Ratio: 28.92%\n"
          ]
        }
      ]
    },
    {
      "cell_type": "code",
      "source": [
        "# Liquidity Ratios\n",
        "current = current_assets / current_liabilities\n",
        "print(f\"Current Ratio: {current:.2%}\")\n",
        "\n",
        "quick = (current_assets - inventory) / current_liabilities\n",
        "print(f\"Quick (Acid) Ratio: {quick:.2%}\")\n",
        "\n",
        "cash = cash / current_liabilities\n",
        "print(f\"Cash Ratio: {cash:.2%}\")"
      ],
      "metadata": {
        "colab": {
          "base_uri": "https://localhost:8080/"
        },
        "id": "nDIUfpM2jPzA",
        "outputId": "58114456-de25-4ea7-c6e1-f85c4bba457f"
      },
      "execution_count": 43,
      "outputs": [
        {
          "output_type": "stream",
          "name": "stdout",
          "text": [
            "Current Ratio: 443.99%\n",
            "Quick (Acid) Ratio: 388.13%\n",
            "Cash Ratio: 47.59%\n"
          ]
        }
      ]
    },
    {
      "cell_type": "markdown",
      "source": [
        "## 2.3. Profitability Ratios"
      ],
      "metadata": {
        "id": "6ukX9_PjnX9G"
      }
    },
    {
      "cell_type": "markdown",
      "source": [
        "Indicators that let us know, not only if the company can attend to its obligations, but also if it gives profit to its owners."
      ],
      "metadata": {
        "id": "rQ5v3XPondEJ"
      }
    },
    {
      "cell_type": "code",
      "source": [
        "# Return Ratios\n",
        "roi = net_income / total_revenue\n",
        "print(f\"Return on Investment (ROI): {roi:.2%}\")\n",
        "\n",
        "roe = net_income / total_equity\n",
        "print(f\"Return on Equity (ROE): {roe:.2%}\")\n",
        "\n",
        "roa = net_income / total_assets\n",
        "print(f\"Return on Assets (ROA): {roa:.2%}\")"
      ],
      "metadata": {
        "colab": {
          "base_uri": "https://localhost:8080/"
        },
        "id": "2E3s5bI7oGGJ",
        "outputId": "8928f346-ae56-41ff-cbb1-08e759374b73"
      },
      "execution_count": 44,
      "outputs": [
        {
          "output_type": "stream",
          "name": "stdout",
          "text": [
            "Return on Investment (ROI): 48.85%\n",
            "Return on Equity (ROE): 37.52%\n",
            "Return on Assets (ROA): 26.67%\n"
          ]
        }
      ]
    },
    {
      "cell_type": "code",
      "source": [
        "# Efficency Ratios\n",
        "gross_margin = gross_profit / total_revenue\n",
        "print(f\"Gross Margin: {gross_margin:.2%}\")\n",
        "\n",
        "ebitda_margin = ebitda / total_revenue\n",
        "print(f\"EBITDA Margin: {ebitda_margin:.2%}\")\n",
        "\n",
        "fcf_revenue = free_cashflow / total_revenue\n",
        "print(f\"Free Cash Flow Margin: {fcf_revenue:.2%}\")\n",
        "\n",
        "eps = net_income / ordinary_shares\n",
        "print(f\"Earnings per Share (EPS): {eps:.2f}$\")"
      ],
      "metadata": {
        "colab": {
          "base_uri": "https://localhost:8080/"
        },
        "id": "qW_BVX7upp4C",
        "outputId": "2d415546-1e18-4744-f8af-c1bc0afcef03"
      },
      "execution_count": 47,
      "outputs": [
        {
          "output_type": "stream",
          "name": "stdout",
          "text": [
            "Gross Margin: 72.72%\n",
            "EBITDA Margin: 58.41%\n",
            "Free Cash Flow Margin: 44.35%\n",
            "Earnings per Share (EPS): 1.22$\n"
          ]
        }
      ]
    },
    {
      "cell_type": "markdown",
      "source": [
        "## 2.4. Valuation Ratios (Multiples)"
      ],
      "metadata": {
        "id": "OaQnG6zuzbBw"
      }
    },
    {
      "cell_type": "markdown",
      "source": [],
      "metadata": {
        "id": "pqq6nOaCzpWY"
      }
    }
  ]
}