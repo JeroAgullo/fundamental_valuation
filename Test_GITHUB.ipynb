{
  "nbformat": 4,
  "nbformat_minor": 0,
  "metadata": {
    "colab": {
      "provenance": [],
      "authorship_tag": "ABX9TyP9bqMnBm5owGQDxmsSmqK9",
      "include_colab_link": true
    },
    "kernelspec": {
      "name": "python3",
      "display_name": "Python 3"
    },
    "language_info": {
      "name": "python"
    }
  },
  "cells": [
    {
      "cell_type": "markdown",
      "metadata": {
        "id": "view-in-github",
        "colab_type": "text"
      },
      "source": [
        "<a href=\"https://colab.research.google.com/github/JeroAgullo/test_repo/blob/main/Test_GITHUB.ipynb\" target=\"_parent\"><img src=\"https://colab.research.google.com/assets/colab-badge.svg\" alt=\"Open In Colab\"/></a>"
      ]
    },
    {
      "cell_type": "markdown",
      "source": [
        "# Introducción"
      ],
      "metadata": {
        "id": "lRW4YI5NmyHi"
      }
    },
    {
      "cell_type": "code",
      "execution_count": 1,
      "metadata": {
        "id": "Ob3iIJpMRDXH"
      },
      "outputs": [],
      "source": [
        "# Importación de librerías\n",
        "import yfinance as yf\n",
        "import pandas as pd"
      ]
    },
    {
      "cell_type": "code",
      "source": [
        "# Crear objeto de NVIDIA\n",
        "nvda = yf.Ticker(\"NVDA\")"
      ],
      "metadata": {
        "id": "t0oeuQlrm3rF"
      },
      "execution_count": 2,
      "outputs": []
    },
    {
      "cell_type": "code",
      "source": [
        "# Revisión de contenido (valores en los encabezados)\n",
        "headers = nvda.financials.index.tolist()\n",
        "for h in headers:\n",
        "  print(h)"
      ],
      "metadata": {
        "id": "-_cjGiO_Vhjk",
        "colab": {
          "base_uri": "https://localhost:8080/"
        },
        "outputId": "3a3d7b4c-da8a-4ade-fc46-cdce546da19d"
      },
      "execution_count": 3,
      "outputs": [
        {
          "output_type": "stream",
          "name": "stdout",
          "text": [
            "Tax Effect Of Unusual Items\n",
            "Tax Rate For Calcs\n",
            "Normalized EBITDA\n",
            "Total Unusual Items\n",
            "Total Unusual Items Excluding Goodwill\n",
            "Net Income From Continuing Operation Net Minority Interest\n",
            "Reconciled Depreciation\n",
            "Reconciled Cost Of Revenue\n",
            "EBITDA\n",
            "EBIT\n",
            "Net Interest Income\n",
            "Interest Expense\n",
            "Interest Income\n",
            "Normalized Income\n",
            "Net Income From Continuing And Discontinued Operation\n",
            "Total Expenses\n",
            "Total Operating Income As Reported\n",
            "Diluted Average Shares\n",
            "Basic Average Shares\n",
            "Diluted EPS\n",
            "Basic EPS\n",
            "Diluted NI Availto Com Stockholders\n",
            "Net Income Common Stockholders\n",
            "Net Income\n",
            "Net Income Including Noncontrolling Interests\n",
            "Net Income Continuous Operations\n",
            "Tax Provision\n",
            "Pretax Income\n",
            "Other Income Expense\n",
            "Other Non Operating Income Expenses\n",
            "Special Income Charges\n",
            "Restructuring And Mergern Acquisition\n",
            "Net Non Operating Interest Income Expense\n",
            "Interest Expense Non Operating\n",
            "Interest Income Non Operating\n",
            "Operating Income\n",
            "Operating Expense\n",
            "Research And Development\n",
            "Selling General And Administration\n",
            "Gross Profit\n",
            "Cost Of Revenue\n",
            "Total Revenue\n",
            "Operating Revenue\n"
          ]
        }
      ]
    },
    {
      "cell_type": "markdown",
      "source": [
        "## Extracción de datos"
      ],
      "metadata": {
        "id": "w03Bgoe87_x7"
      }
    },
    {
      "cell_type": "code",
      "source": [
        "# Función auxiliar para extraer un valor si existe\n",
        "def safe_extract(df, row_name, column_name):\n",
        "    if row_name in df.index:\n",
        "        return df.loc[row_name, column_name]\n",
        "    else:\n",
        "        return None\n",
        "\n",
        "# Extracción de datos - Cuenta de resultados\n",
        "df = nvda.financials\n",
        "column_name = df.columns[1]\n",
        "\n",
        "total_revenue = safe_extract(df, \"Total Revenue\", column_name)\n",
        "gross_profit = safe_extract(df, \"Gross Profit\", column_name)\n",
        "ebitda = safe_extract(df, \"EBITDA\", column_name)\n",
        "ebit = safe_extract(df, \"EBIT\", column_name)\n",
        "net_income = safe_extract(df, \"Net Income\", column_name)\n",
        "\n",
        "# Extracción de datos - Balance\n",
        "df= nvda.balance_sheet\n",
        "column_name = df.columns[0]\n",
        "\n",
        "total_assets = safe_extract(df, \"Total Assets\", column_name)\n",
        "total_lianilities = safe_extract(df, \"Total Liabilities Net Minority Interest\", column_name)\n",
        "total_equity = safe_extract(df, \"Total Equity Gross Minority Interest\", column_name)\n",
        "cash = safe_extract(df, \"Cash And Cash Equivalents\", column_name)"
      ],
      "metadata": {
        "id": "mcdHRGi_SWiP"
      },
      "execution_count": 4,
      "outputs": []
    },
    {
      "cell_type": "code",
      "source": [
        "# Revisión de datos\n",
        "print(\"Resultados:\")\n",
        "print(f\"Total Revenue: {total_revenue:,.0f}$\")\n",
        "print(f\"Total Profit: {gross_profit:,.0f}\")\n",
        "print(f\"EBITDA: {ebitda:,.0f}$\")\n",
        "print(f\"EBIT: {ebit:,.0f}$\")\n",
        "print(f\"Net Income: {net_income:,.0f}$\")\n",
        "\n",
        "print(\"\\nBalance:\")\n",
        "print(f\"Total Assets: {total_assets:,.0f}$\")\n",
        "print(f\"Total Liabilities: {total_lianilities:,.0f}$\")\n",
        "print(f\"Total Equity: {total_equity:,.0f}$\")\n",
        "print(f\"Cash: {cash:,.0f}$\")"
      ],
      "metadata": {
        "colab": {
          "base_uri": "https://localhost:8080/"
        },
        "id": "URcvOWZ5SMkN",
        "outputId": "b09bd74e-f921-40a8-c37b-f09810a3ac52"
      },
      "execution_count": 5,
      "outputs": [
        {
          "output_type": "stream",
          "name": "stdout",
          "text": [
            "Resultados:\n",
            "Total Revenue: 60,922,000,000$\n",
            "Total Profit: 44,301,000,000\n",
            "EBITDA: 35,583,000,000$\n",
            "EBIT: 34,075,000,000$\n",
            "Net Income: 29,760,000,000$\n",
            "\n",
            "Balance:\n",
            "Total Assets: 111,601,000,000$\n",
            "Total Liabilities: 32,274,000,000$\n",
            "Total Equity: 79,327,000,000$\n",
            "Cash: 8,589,000,000$\n"
          ]
        }
      ]
    },
    {
      "cell_type": "markdown",
      "source": [
        "## Ratios contables"
      ],
      "metadata": {
        "id": "ETGxZpbA8JRg"
      }
    },
    {
      "cell_type": "code",
      "source": [
        "roe = net_income / total_equity\n",
        "print(f\"ROE: {roe:.2%}\")\n",
        "\n",
        "cash_ratio = cash / total_assets\n",
        "print(f\"Cash Ratio: {cash_ratio:.2%}\")\n",
        "\n",
        "debt_ratio = total_lianilities / total_assets\n",
        "print(f\"Debt Ratio: {debt_ratio:.2%}\")\n",
        "\n",
        "profit_revenue = gross_profit / total_revenue\n",
        "print(f\"Profit (as % of Revenue): {profit_revenue:.2%}\")\n",
        "\n",
        "ebitda_revenue = ebitda / total_revenue\n",
        "print(f\"EBITDA (as % of Revenue): {ebitda_revenue:.2%}\")"
      ],
      "metadata": {
        "id": "lvDYci-J3aTP",
        "colab": {
          "base_uri": "https://localhost:8080/"
        },
        "outputId": "1dfb5fb6-bfad-490c-b61b-ba7ee090d94d"
      },
      "execution_count": 6,
      "outputs": [
        {
          "output_type": "stream",
          "name": "stdout",
          "text": [
            "ROE: 37.52%\n",
            "Cash Ratio: 7.70%\n",
            "Debt Ratio: 28.92%\n",
            "Profit (as % of Revenue): 72.72%\n",
            "EBITDA (as % of Revenue): 58.41%\n"
          ]
        }
      ]
    }
  ]
}