{
  "nbformat": 4,
  "nbformat_minor": 0,
  "metadata": {
    "colab": {
      "provenance": [],
      "authorship_tag": "ABX9TyObO+lCqbC/aqHUmUozPW5S",
      "include_colab_link": true
    },
    "kernelspec": {
      "name": "python3",
      "display_name": "Python 3"
    },
    "language_info": {
      "name": "python"
    }
  },
  "cells": [
    {
      "cell_type": "markdown",
      "metadata": {
        "id": "view-in-github",
        "colab_type": "text"
      },
      "source": [
        "<a href=\"https://colab.research.google.com/github/JeroAgullo/test_repo/blob/main/Test_GITHUB.ipynb\" target=\"_parent\"><img src=\"https://colab.research.google.com/assets/colab-badge.svg\" alt=\"Open In Colab\"/></a>"
      ]
    },
    {
      "cell_type": "code",
      "execution_count": 12,
      "metadata": {
        "id": "Ob3iIJpMRDXH"
      },
      "outputs": [],
      "source": [
        "# Importación de librerías\n",
        "import yfinance as yf\n",
        "import pandas as pd\n",
        "\n",
        "# Crear objeto de NVIDIA\n",
        "nvda = yf.Ticker(\"NVDA\")"
      ]
    },
    {
      "cell_type": "code",
      "source": [
        "# Revisión de contenido (valores en los encabezados)\n",
        "#headers = nvda.balance_sheet.index.tolist()\n",
        "#for h in headers:\n",
        "#  print(h)"
      ],
      "metadata": {
        "id": "-_cjGiO_Vhjk"
      },
      "execution_count": 26,
      "outputs": []
    },
    {
      "cell_type": "code",
      "source": [
        "# Función auxiliar para extraer un valor si existe\n",
        "def safe_extract(df, row_name, column_name):\n",
        "    if row_name in df.index:\n",
        "        return df.loc[row_name, column_name]\n",
        "    else:\n",
        "        return None\n",
        "\n",
        "# Cuenta de resultados\n",
        "df = nvda.financials\n",
        "column_name = income_statement.columns[1]\n",
        "\n",
        "print(\"Revenue:\", safe_extract(df, \"Total Revenue\", column_name))\n",
        "print(\"Net Income:\", safe_extract(df, \"Net Income\", column_name))\n",
        "print(\"EBIT:\", safe_extract(df, \"EBIT\", column_name))\n",
        "print(\"EBITDA:\", safe_extract(df, \"EBITDA\", column_name))\n",
        "\n",
        "# Balance\n",
        "df= nvda.balance_sheet\n",
        "column_name = balance_sheet.columns[0]\n",
        "\n",
        "print(\"Caja:\", safe_extract(df, \"Cash And Cash Equivalents\", column_name))\n",
        "print(\"Deuda total:\" safe_extract(df, \"Total Liabilities Net Minority Interest\", column_name))\n",
        "print(\"Equity:\", safe_extract(df, \"Total Equity Gross Minority Interest\", column_name))\n",
        "\n",
        "# Ratios Trailing Twelve Months\n",
        "df = nvda.info\n",
        "\n"
      ],
      "metadata": {
        "colab": {
          "base_uri": "https://localhost:8080/"
        },
        "id": "mcdHRGi_SWiP",
        "outputId": "207caf9a-542b-4568-b088-d0a6973c8290"
      },
      "execution_count": 29,
      "outputs": [
        {
          "output_type": "stream",
          "name": "stdout",
          "text": [
            "Revenue: 60922000000.0\n",
            "Net Income: 29760000000.0\n",
            "EBIT: 34075000000.0\n",
            "EBITDA: 35583000000.0\n",
            "Caja: 8589000000.0\n",
            "Deuda total: 32274000000.0\n",
            "Equity: 79327000000.0\n"
          ]
        }
      ]
    }
  ]
}